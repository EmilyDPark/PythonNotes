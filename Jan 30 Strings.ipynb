{
  "cells": [
    {
      "metadata": {},
      "cell_type": "markdown",
      "source": "# Strings"
    },
    {
      "metadata": {
        "collapsed": true
      },
      "cell_type": "markdown",
      "source": "### Exercise 1\n#### Create a string, my_name, containing your name including your first name and last name separated by a single blank space. Then put the second character of your name in the variable second and print second."
    },
    {
      "metadata": {
        "trusted": true
      },
      "cell_type": "code",
      "source": "my_name = \"Emily Park\"\n\nsecond = my_name[1]\nprint(second)",
      "execution_count": 2,
      "outputs": [
        {
          "output_type": "stream",
          "text": "m\n",
          "name": "stdout"
        }
      ]
    },
    {
      "metadata": {},
      "cell_type": "markdown",
      "source": "### Exercise 2\n#### Compute and print the length of the string my_name."
    },
    {
      "metadata": {
        "trusted": true,
        "scrolled": true
      },
      "cell_type": "code",
      "source": "my_name = \"Emily Park\"\n\nprint(len(my_name))",
      "execution_count": 3,
      "outputs": [
        {
          "output_type": "stream",
          "text": "10\n",
          "name": "stdout"
        }
      ]
    },
    {
      "metadata": {},
      "cell_type": "markdown",
      "source": "### Exercise 3\n#### Extract the last character of my_name and print it."
    },
    {
      "metadata": {
        "trusted": true
      },
      "cell_type": "code",
      "source": "my_name = \"Emily Park\"\n\nlast = my_name[9]\nprint(last)",
      "execution_count": 4,
      "outputs": [
        {
          "output_type": "stream",
          "text": "k\n",
          "name": "stdout"
        }
      ]
    },
    {
      "metadata": {},
      "cell_type": "markdown",
      "source": "### Exercise 4\n#### Use a while loop to print each character of my_name."
    },
    {
      "metadata": {
        "trusted": true
      },
      "cell_type": "code",
      "source": "my_name = \"Emily Park\"\n\nindex = 0\nwhile index < len(my_name):\n    print(my_name[index])\n    index = index + 1",
      "execution_count": 2,
      "outputs": [
        {
          "output_type": "stream",
          "text": "E\nm\ni\nl\ny\n \nP\na\nr\nk\n",
          "name": "stdout"
        }
      ]
    },
    {
      "metadata": {
        "trusted": true
      },
      "cell_type": "code",
      "source": "# Professor's Answer\nmy_name = \"Emily Park\"\n\nlength = len(my_name)\npos = 0\nwhile pos < length:\n    print(my_name[pos])\n    pos = pos + 1",
      "execution_count": 4,
      "outputs": [
        {
          "output_type": "stream",
          "text": "E\nm\ni\nl\ny\n \nP\na\nr\nk\n",
          "name": "stdout"
        }
      ]
    },
    {
      "metadata": {},
      "cell_type": "markdown",
      "source": "### Exercise 5\n#### Use a for loop and the in operator to repeat the exercise above."
    },
    {
      "metadata": {
        "trusted": true
      },
      "cell_type": "code",
      "source": "my_name = \"Emily Park\"\n\nfor letter in my_name:\n    print(letter)",
      "execution_count": 6,
      "outputs": [
        {
          "output_type": "stream",
          "text": "E\nm\ni\nl\ny\n \nP\na\nr\nk\n",
          "name": "stdout"
        }
      ]
    },
    {
      "metadata": {},
      "cell_type": "markdown",
      "source": "### Exercise 6\n#### Create a and print a string straddle consisting of the last character of your first name, the blank space, and the first character of your last name. Use slicing."
    },
    {
      "metadata": {
        "trusted": true
      },
      "cell_type": "code",
      "source": "my_name = \"Emily Park\"\n\n# slice everything from AND INCLUDING index 4 up to but NOT INCLUDING index 7\nstraddle = my_name[4:7]\nprint(straddle)",
      "execution_count": 16,
      "outputs": [
        {
          "output_type": "stream",
          "text": "y P\n",
          "name": "stdout"
        }
      ]
    },
    {
      "metadata": {},
      "cell_type": "markdown",
      "source": "### Exercise 7\n#### Manually locate the index of the blank space and call it blank_pos. Use this variable to get strings first_name and last_name using slice specifications with only one number. Print the values of blank_pos, first_name and last_name."
    },
    {
      "metadata": {
        "trusted": true
      },
      "cell_type": "code",
      "source": "my_name = \"Emily Park\"\n\nblank_pos = 5\nfirst_name = my_name[:blank_pos]\nlast_name = my_name[(blank_pos + 1):]\nprint(first_name)\nprint(last_name)",
      "execution_count": 18,
      "outputs": [
        {
          "output_type": "stream",
          "text": "Emily\nPark\n",
          "name": "stdout"
        }
      ]
    },
    {
      "metadata": {},
      "cell_type": "markdown",
      "source": "### Exercise 8\n#### Use string functions to do each of the following and print the results.\n- Create lower_name, your name in lower cases letters.\n- Create cap_name, your name capitalized, starting from name_lower.\n- Create upper_name, your name in upper case, starting from lower_name."
    },
    {
      "metadata": {
        "trusted": true
      },
      "cell_type": "code",
      "source": "my_name = \"Emily Park\"\n\nlower_name = my_name.lower()\nprint(lower_name)\n\ncap_name = lower_name.capitalize()\nprint(cap_name)\n\nupper_name = lower_name.upper()\nprint(upper_name)",
      "execution_count": 20,
      "outputs": [
        {
          "output_type": "stream",
          "text": "emily park\nEmily park\nEMILY PARK\n",
          "name": "stdout"
        }
      ]
    },
    {
      "metadata": {},
      "cell_type": "markdown",
      "source": "### Exercise 9\n#### Used find() to locate the position of the blank space in my_name as blank_pos_2. Test for the equality of blank_pos and blank_pos_2."
    },
    {
      "metadata": {
        "trusted": true
      },
      "cell_type": "code",
      "source": "my_name = \"Emily Park\"\nblank_pos = 5\n\nblank_pos_2 = my_name.find(' ')\nif blank_pos == blank_pos_2:\n    print(\"They are the same.\")\nelse:\n    print(\"They are not the same.\")",
      "execution_count": 22,
      "outputs": [
        {
          "output_type": "stream",
          "text": "They are the same.\n",
          "name": "stdout"
        }
      ]
    },
    {
      "metadata": {
        "trusted": true
      },
      "cell_type": "code",
      "source": "# Professor's Answer\nmy_name = \"Emily Park\"\nblank_pos = 5\n\nprint(blank_pos == blank_pos_2)",
      "execution_count": 23,
      "outputs": [
        {
          "output_type": "stream",
          "text": "True\n",
          "name": "stdout"
        }
      ]
    },
    {
      "metadata": {},
      "cell_type": "markdown",
      "source": "### Exercise 10\n\n#### Create a function check which returns True if a name ends with ‘sen’ or ‘son’ and returns False otherwise. Test your function with the names Johnson, Smith and Andersen."
    },
    {
      "metadata": {
        "trusted": true,
        "scrolled": true
      },
      "cell_type": "code",
      "source": "def check(name):\n    length = len(name)\n    less_three = length - 3\n    last = name[less_three:]\n    if last == \"son\" or last == \"sen\":\n        return \"True\"\n    else:\n        return \"False\"\n    \nprint(check(\"Johnson\"))\nprint(check(\"Smith\"))\nprint(check(\"Andersen\"))",
      "execution_count": 66,
      "outputs": [
        {
          "output_type": "stream",
          "text": "True\nFalse\nTrue\n",
          "name": "stdout"
        }
      ]
    },
    {
      "metadata": {
        "trusted": true
      },
      "cell_type": "code",
      "source": "# Professor's Answer\n\ndef check(name):\n    result = name.endswith(\"son\") or name.endswith(\"sen\")\n    return result\n\nprint(check(\"Johnson\"))\nprint(check(\"Smith\"))\nprint(check(\"Andersen\"))",
      "execution_count": 52,
      "outputs": [
        {
          "output_type": "stream",
          "text": "True\nFalse\nTrue\n",
          "name": "stdout"
        }
      ]
    },
    {
      "metadata": {
        "trusted": true
      },
      "cell_type": "code",
      "source": "# using a negative index when slicing\n\nname = \"Johnson\"\nname[-3] == \"son\"",
      "execution_count": 55,
      "outputs": [
        {
          "output_type": "execute_result",
          "execution_count": 55,
          "data": {
            "text/plain": "False"
          },
          "metadata": {}
        }
      ]
    },
    {
      "metadata": {},
      "cell_type": "markdown",
      "source": "### Exericise 11\n#### Try the following code in Cocalkc and observe what happens. It attempts to capitalize a string.\ns = \"abc\"  \ns[0] = \"A\"  \nprint(s)"
    },
    {
      "metadata": {
        "trusted": true,
        "scrolled": false
      },
      "cell_type": "code",
      "source": "s = \"abc\"\ns[0] = \"A\"\nprint(s)",
      "execution_count": 62,
      "outputs": [
        {
          "output_type": "error",
          "ename": "TypeError",
          "evalue": "'str' object does not support item assignment",
          "traceback": [
            "\u001b[0;31m---------------------------------------------------------------------------\u001b[0m",
            "\u001b[0;31mTypeError\u001b[0m                                 Traceback (most recent call last)",
            "\u001b[0;32m<ipython-input-62-5ca06e73d056>\u001b[0m in \u001b[0;36m<module>\u001b[0;34m\u001b[0m\n\u001b[1;32m      1\u001b[0m \u001b[0ms\u001b[0m \u001b[0;34m=\u001b[0m \u001b[0;34m\"abc\"\u001b[0m\u001b[0;34m\u001b[0m\u001b[0m\n\u001b[0;32m----> 2\u001b[0;31m \u001b[0ms\u001b[0m\u001b[0;34m[\u001b[0m\u001b[0;36m0\u001b[0m\u001b[0;34m]\u001b[0m \u001b[0;34m=\u001b[0m \u001b[0;34m\"A\"\u001b[0m\u001b[0;34m\u001b[0m\u001b[0m\n\u001b[0m\u001b[1;32m      3\u001b[0m \u001b[0mprint\u001b[0m\u001b[0;34m(\u001b[0m\u001b[0ms\u001b[0m\u001b[0;34m)\u001b[0m\u001b[0;34m\u001b[0m\u001b[0m\n",
            "\u001b[0;31mTypeError\u001b[0m: 'str' object does not support item assignment"
          ]
        }
      ]
    },
    {
      "metadata": {},
      "cell_type": "markdown",
      "source": "### Exercise 12\n#### Try the following code in Cocalc and see what it does.\ns = \"abc\"  \ns = \"A\" + s[1:]  \nprint(s)"
    },
    {
      "metadata": {
        "trusted": true
      },
      "cell_type": "code",
      "source": "s = \"abc\"\ns = \"A\" + s[1:]\nprint(s)",
      "execution_count": 63,
      "outputs": [
        {
          "output_type": "stream",
          "text": "Abc\n",
          "name": "stdout"
        }
      ]
    },
    {
      "metadata": {
        "trusted": true,
        "scrolled": true
      },
      "cell_type": "code",
      "source": "x = 3\nprint(x)\n\nx = \"Joe\"\nprint(x)",
      "execution_count": 64,
      "outputs": [
        {
          "output_type": "stream",
          "text": "3\nJoe\n",
          "name": "stdout"
        }
      ]
    },
    {
      "metadata": {},
      "cell_type": "markdown",
      "source": "### Huh\n**Did I get away with violating immutability?**\n\nhttps://realpython.com/python-variables/ is worth reading.\n\nHere’s the bottom line. There are three distinct things.\n\nName  \nObject  \nValue  \nYou can’t change a string object.\n\nYou can re-use a name to point to a different object."
    },
    {
      "metadata": {},
      "cell_type": "markdown",
      "source": "### Exercise 13\n#### This point enables us to use our accumulation pattern to build a string by starting with an empty string and adding to it by concatenation. Use this fact to write a program to start with the string “Use this fact” and build a string consisting of all the vowels in the original string.\n\n#### Note: Start by creating a string consisting of all the vowels, both uppercase and lowercase. Remember that the operator “in” can test for the presence of a character in a string."
    },
    {
      "metadata": {
        "trusted": true
      },
      "cell_type": "code",
      "source": "s = \"Use this fact\"\nvowels = \"aeiouAEIOU\"\nnew_string = \"\"\n\nfor i in s:\n    if i in vowels:\n        new_string = new_string + i\nprint(new_string)",
      "execution_count": 74,
      "outputs": [
        {
          "output_type": "stream",
          "text": "Ueia\n",
          "name": "stdout"
        }
      ]
    }
  ],
  "metadata": {
    "kernelspec": {
      "name": "python36",
      "display_name": "Python 3.6",
      "language": "python"
    },
    "language_info": {
      "mimetype": "text/x-python",
      "nbconvert_exporter": "python",
      "name": "python",
      "pygments_lexer": "ipython3",
      "version": "3.6.6",
      "file_extension": ".py",
      "codemirror_mode": {
        "version": 3,
        "name": "ipython"
      }
    }
  },
  "nbformat": 4,
  "nbformat_minor": 2
}
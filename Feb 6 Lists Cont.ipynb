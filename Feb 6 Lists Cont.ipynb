{
  "cells": [
    {
      "metadata": {
        "collapsed": true
      },
      "cell_type": "markdown",
      "source": "# Lists Cont"
    },
    {
      "metadata": {},
      "cell_type": "markdown",
      "source": "### Ex4\n#### Write a function undup(l). The parameter l is a list. It returns an unduplicated list. In the result, there is one instance of every item in the input list."
    },
    {
      "metadata": {
        "trusted": true
      },
      "cell_type": "code",
      "source": "def undup(l):\n    undList = []\n    for i in l:\n        if i not in undList:\n            undList.append(i)\n    return undList\n\ntestList = [1, 2, 3, 4, 5, 3, 1, 7]\nundupList = undup(testList)\nprint(undupList)",
      "execution_count": 8,
      "outputs": [
        {
          "output_type": "stream",
          "text": "[1, 2, 3, 4, 5, 7]\n",
          "name": "stdout"
        }
      ]
    },
    {
      "metadata": {},
      "cell_type": "markdown",
      "source": "### Ex5\n#### Write a function numres(nl). It’s single parameter is a list of numbers. It returns a list of numbers. The first item in the output list is the count of numbers in the input. The second number is the sum. The third number is the mean."
    },
    {
      "metadata": {
        "trusted": true
      },
      "cell_type": "code",
      "source": "def numres(nl):\n    res = []\n    \n    # count of numbers\n    count = len(nl)\n    res.append(count)\n    \n    # sum of numbers\n    sum = 0\n    for i in nl:\n        sum += i\n    res.append(sum)\n    \n    # mean of numbers\n    mean = sum / count\n    res.append(mean)\n    \n    return res\n\nmyList = [1, 2, 3, 4, 5, 3, 1, 7]\nprint(numres(myList))",
      "execution_count": 12,
      "outputs": [
        {
          "output_type": "stream",
          "text": "[8, 26, 3.25]\n",
          "name": "stdout"
        }
      ]
    },
    {
      "metadata": {
        "trusted": true
      },
      "cell_type": "code",
      "source": "# Professor's Answer\n\ndef numres(nl):\n    sum = 0\n    for n in nl:\n        sum = sum + n\n    mean =  sum/len(nl)\n    return [len(nl), sum, mean]\n    \nmy_list = [1,2,3,4,5]\nprint(numres(my_list))",
      "execution_count": 11,
      "outputs": [
        {
          "output_type": "stream",
          "text": "[5, 15, 3.0]\n",
          "name": "stdout"
        }
      ]
    },
    {
      "metadata": {},
      "cell_type": "markdown",
      "source": "### Ex6\n#### Create a list xlist. The first item in the list is the number 1. The second item in the list is a list [“a”,“b”,[“x”,“y”]]. Print your list to make sure it’s OK."
    },
    {
      "metadata": {
        "trusted": true
      },
      "cell_type": "code",
      "source": "xlist = [1,[\"a\",\"b\",[\"x\",\"y\"]]]\nprint(xlist)",
      "execution_count": 13,
      "outputs": [
        {
          "output_type": "stream",
          "text": "[1, ['a', 'b', ['x', 'y']]]\n",
          "name": "stdout"
        }
      ]
    },
    {
      "metadata": {},
      "cell_type": "markdown",
      "source": "### Ex7\n#### Write code which prints each of the following items.\n\n1. **The number 1**\n2. **The letter ‘b’**\n3. **The letter ‘y’**"
    },
    {
      "metadata": {
        "trusted": true
      },
      "cell_type": "code",
      "source": "print(xlist[0])\n\nsubList = xlist[1]\nprint(subList[1])\n\nsubSubList = subList[2]\nprint(subSubList[1])",
      "execution_count": 22,
      "outputs": [
        {
          "output_type": "stream",
          "text": "1\nb\ny\n",
          "name": "stdout"
        }
      ]
    },
    {
      "metadata": {
        "trusted": true
      },
      "cell_type": "code",
      "source": "# Professor's Answer\n\nprint(xlist[0])\nprint(xlist[1][1])\nprint(xlist[1][2][1])",
      "execution_count": 23,
      "outputs": [
        {
          "output_type": "stream",
          "text": "1\nb\ny\n",
          "name": "stdout"
        }
      ]
    }
  ],
  "metadata": {
    "kernelspec": {
      "name": "python36",
      "display_name": "Python 3.6",
      "language": "python"
    },
    "language_info": {
      "mimetype": "text/x-python",
      "nbconvert_exporter": "python",
      "name": "python",
      "pygments_lexer": "ipython3",
      "version": "3.6.6",
      "file_extension": ".py",
      "codemirror_mode": {
        "version": 3,
        "name": "ipython"
      }
    }
  },
  "nbformat": 4,
  "nbformat_minor": 2
}
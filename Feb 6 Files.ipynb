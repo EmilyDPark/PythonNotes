{
  "cells": [
    {
      "metadata": {
        "collapsed": true
      },
      "cell_type": "markdown",
      "source": "# Files"
    },
    {
      "metadata": {},
      "cell_type": "markdown",
      "source": "### Ex1\n#### You have a file “Pride and Prejudice.txt” in a folder “Handout 2”. In that folder, create a jupyter notebook and write a program to read the contents of the file line by line into a list called lines. In the reading loop, count the number of lines you read. Compare this with the length of the list you get from the len() function."
    },
    {
      "metadata": {
        "trusted": true
      },
      "cell_type": "code",
      "source": "fhand = open('Pride and Prejudice.txt', 'r')\nlineNum = 0\nfor line in fhand:\n    lineNum += 1\nprint('Line Count:', lineNum)",
      "execution_count": 13,
      "outputs": [
        {
          "output_type": "stream",
          "text": "Line Count: 13427\n",
          "name": "stdout"
        }
      ]
    },
    {
      "metadata": {
        "trusted": true
      },
      "cell_type": "code",
      "source": "# Professor's Answer\n\nfh = open(\"Pride and Prejudice.txt\",\"r\")\ncount = 0\nlines = []\nfor line in fh:\n    lines.append(line)\n    count = count + 1\nlen(lines) ",
      "execution_count": 5,
      "outputs": [
        {
          "output_type": "execute_result",
          "execution_count": 5,
          "data": {
            "text/plain": "13427"
          },
          "metadata": {}
        }
      ]
    },
    {
      "metadata": {
        "trusted": true
      },
      "cell_type": "code",
      "source": "print(count)",
      "execution_count": 3,
      "outputs": [
        {
          "output_type": "stream",
          "text": "13427\n",
          "name": "stdout"
        }
      ]
    },
    {
      "metadata": {},
      "cell_type": "markdown",
      "source": "### Ex2\n#### What is the type of an item in the list?"
    },
    {
      "metadata": {
        "trusted": true
      },
      "cell_type": "code",
      "source": "type(lines[0])",
      "execution_count": 6,
      "outputs": [
        {
          "output_type": "execute_result",
          "execution_count": 6,
          "data": {
            "text/plain": "str"
          },
          "metadata": {}
        }
      ]
    },
    {
      "metadata": {},
      "cell_type": "markdown",
      "source": "### Ex3\n#### What is the average length of a line?"
    },
    {
      "metadata": {
        "trusted": true
      },
      "cell_type": "code",
      "source": "total = 0\nfor line in lines:\n    total += len(line)\navg = total / count\nprint(avg)",
      "execution_count": 14,
      "outputs": [
        {
          "output_type": "stream",
          "text": "52.445669174052284\n",
          "name": "stdout"
        }
      ]
    },
    {
      "metadata": {},
      "cell_type": "markdown",
      "source": "### Ex4\n#### How many lines have length 0?"
    },
    {
      "metadata": {
        "trusted": true
      },
      "cell_type": "code",
      "source": "total = 0\nfor line in lines:\n    if len(line) == 0:\n        total = total + 1\nprint(total)",
      "execution_count": 15,
      "outputs": [
        {
          "output_type": "stream",
          "text": "0\n",
          "name": "stdout"
        }
      ]
    },
    {
      "metadata": {},
      "cell_type": "markdown",
      "source": "### Ex5\n#### How many lines have length 1?"
    },
    {
      "metadata": {
        "trusted": true
      },
      "cell_type": "code",
      "source": "total = 0\nfor line in lines:\n    if len(line) == 1:\n        total = total + 1\nprint(total)",
      "execution_count": 16,
      "outputs": [
        {
          "output_type": "stream",
          "text": "2394\n",
          "name": "stdout"
        }
      ]
    },
    {
      "metadata": {},
      "cell_type": "markdown",
      "source": "### Ex6\n#### Create a list “short_lines” of all the lines with length 1. What is in these lines? Look at the first 3 by printing them out character by character."
    },
    {
      "metadata": {
        "trusted": true
      },
      "cell_type": "code",
      "source": "short_lines = []\nfor line in lines:\n    if len(line) == 1:\n        short_lines.append(line)\nprint(short_lines[:3])\n\nfor i in range(3):\n    print(\"Line\", i)\n    for j in short_lines[i]:\n        print(j)\n    print(\"End of line\", i)\n    print(\" \")",
      "execution_count": 21,
      "outputs": [
        {
          "output_type": "stream",
          "text": "['\\n', '\\n', '\\n']\nLine 0\n\n\nEnd of line 0\n \nLine 1\n\n\nEnd of line 1\n \nLine 2\n\n\nEnd of line 2\n \n",
          "name": "stdout"
        }
      ]
    },
    {
      "metadata": {},
      "cell_type": "markdown",
      "source": "### Ex7\n#### Consider a word to be defined as any sequence of non-blank characters separated by whitespace. Create a list of all of the words in the file. Use the string method split(). Print out the first 100 words in the list of words. Print the length of the list of words."
    },
    {
      "metadata": {
        "trusted": true
      },
      "cell_type": "code",
      "source": "words = []\n\nfor line in lines:\n    lineWords = line.split()\n    for word in lineWords:\n        words.append(word)\n\nfor i in range(100):\n    print(words[i])",
      "execution_count": 23,
      "outputs": [
        {
          "output_type": "stream",
          "text": "The\nProject\nGutenberg\nEBook\nof\nPride\nand\nPrejudice,\nby\nJane\nAusten\nThis\neBook\nis\nfor\nthe\nuse\nof\nanyone\nanywhere\nat\nno\ncost\nand\nwith\nalmost\nno\nrestrictions\nwhatsoever.\nYou\nmay\ncopy\nit,\ngive\nit\naway\nor\nre-use\nit\nunder\nthe\nterms\nof\nthe\nProject\nGutenberg\nLicense\nincluded\nwith\nthis\neBook\nor\nonline\nat\nwww.gutenberg.org\nTitle:\nPride\nand\nPrejudice\nAuthor:\nJane\nAusten\nPosting\nDate:\nAugust\n26,\n2008\n[EBook\n#1342]\nRelease\nDate:\nJune,\n1998\nLast\nUpdated:\nMarch\n10,\n2018\nLanguage:\nEnglish\nCharacter\nset\nencoding:\nUTF-8\n***\nSTART\nOF\nTHIS\nPROJECT\nGUTENBERG\nEBOOK\nPRIDE\nAND\nPREJUDICE\n***\nProduced\nby\nAnonymous\nVolunteers\nPRIDE\n124592\n",
          "name": "stdout"
        }
      ]
    },
    {
      "metadata": {
        "trusted": true
      },
      "cell_type": "code",
      "source": "print(len(words))",
      "execution_count": 24,
      "outputs": [
        {
          "output_type": "stream",
          "text": "124592\n",
          "name": "stdout"
        }
      ]
    },
    {
      "metadata": {},
      "cell_type": "markdown",
      "source": "### Ex8\n#### Count the number of occurrences of the word “and” in the list of words. Be sure to allow for capitalization. What fraction of all the words is this?"
    },
    {
      "metadata": {
        "trusted": true
      },
      "cell_type": "code",
      "source": "count = 0\nfor word in words:\n    if word.lower() == \"and\":\n        count = count + 1\nprint(\"Number of ands is\",count)",
      "execution_count": 25,
      "outputs": [
        {
          "output_type": "stream",
          "text": "Number of ands is 3398\n",
          "name": "stdout"
        }
      ]
    },
    {
      "metadata": {
        "trusted": true
      },
      "cell_type": "code",
      "source": "print(\"Fraction of ands is\", count/len(words))",
      "execution_count": 26,
      "outputs": [
        {
          "output_type": "stream",
          "text": "Fraction of ands is 0.02727301913445486\n",
          "name": "stdout"
        }
      ]
    }
  ],
  "metadata": {
    "kernelspec": {
      "name": "python36",
      "display_name": "Python 3.6",
      "language": "python"
    },
    "language_info": {
      "mimetype": "text/x-python",
      "nbconvert_exporter": "python",
      "name": "python",
      "pygments_lexer": "ipython3",
      "version": "3.6.6",
      "file_extension": ".py",
      "codemirror_mode": {
        "version": 3,
        "name": "ipython"
      }
    }
  },
  "nbformat": 4,
  "nbformat_minor": 2
}
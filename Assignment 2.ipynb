{
  "cells": [
    {
      "metadata": {
        "collapsed": true
      },
      "cell_type": "markdown",
      "source": "# Assignment 2"
    },
    {
      "metadata": {},
      "cell_type": "markdown",
      "source": "## Problem 1\nThe code in the first cell below is one of the examples of conditional execution templates we went over in class. Your task is to use the code to build an equivalent function. In this function, the logical variables, which are set in the example, become parameters of the function. Name your function \"ex1\".  Place your code in the code cell below the cell containing the original code. There are three commands I have already placed in that cell, where you will write. These commands serve to test the function you construct. Note that your function is void"
    },
    {
      "metadata": {
        "trusted": true
      },
      "cell_type": "code",
      "source": "# Do not write in this cell\n\ncond1 = True\ncond2 = True\ncond3 = True\nif cond1:\n    print(\"Point A\")\nelif cond2:\n    print(\"Point B\")\nelif cond3:\n    print(\"Point C\")\nelse:\n    print(\"Point D\")\nprint(\"Point E\")",
      "execution_count": 1,
      "outputs": [
        {
          "output_type": "stream",
          "text": "Point A\nPoint E\n",
          "name": "stdout"
        }
      ]
    },
    {
      "metadata": {
        "trusted": true
      },
      "cell_type": "code",
      "source": "# Place your code here.\n\n# Only returns first appropriate return statement.\n\ndef ex1(cond1, cond2, cond3):\n    if cond1:\n        return(\"Point A\")\n    elif cond2:\n        return(\"Point B\")\n    elif cond3:\n        return(\"Point C\")\n    else:\n        return(\"Point D\")\n    return(\"Point E\")\n\n\n\n# Here are the three test commands\nprint(ex1(True,True,True))\nprint(ex1(False,False,False))\nprint(ex1(False,True,False))",
      "execution_count": 5,
      "outputs": [
        {
          "output_type": "stream",
          "text": "Point A\nPoint D\nPoint B\n",
          "name": "stdout"
        }
      ]
    },
    {
      "metadata": {
        "trusted": true
      },
      "cell_type": "code",
      "source": "# Returns first appropriate return statment and \"Point E\".\n# However, the returned type is a tuple.\n\ndef ex1(cond1, cond2, cond3):\n    if cond1:\n        ans = \"Point A\"\n    elif cond2:\n        ans = \"Point B\"\n    elif cond3:\n        ans = \"Point C\"\n    else:\n        ans = \"Point D\"\n    return(ans, \"Point E\")\n\n\n\n# Here are the three test commands\nprint(ex1(True,True,True))\nprint(ex1(False,False,False))\nprint(ex1(False,True,False))",
      "execution_count": 4,
      "outputs": [
        {
          "output_type": "stream",
          "text": "('Point A', 'Point E')\n('Point D', 'Point E')\n('Point B', 'Point E')\n",
          "name": "stdout"
        }
      ]
    },
    {
      "metadata": {
        "trusted": true
      },
      "cell_type": "code",
      "source": "# Prints appropriate statement and returns \"Point E\".\n\ndef ex1(cond1, cond2, cond3):\n    if cond1:\n        print(\"Point A\")\n    elif cond2:\n        print(\"Point B\")\n    elif cond3:\n        print(\"Point C\")\n    else:\n        print(\"Point D\")\n    return(\"Point E\")\n\n\n\n# Here are the three test commands\nprint(ex1(True,True,True))\nprint(ex1(False,False,False))\nprint(ex1(False,True,False))",
      "execution_count": 3,
      "outputs": [
        {
          "output_type": "stream",
          "text": "Point A\nPoint E\nPoint D\nPoint E\nPoint B\nPoint E\n",
          "name": "stdout"
        }
      ]
    },
    {
      "metadata": {},
      "cell_type": "markdown",
      "source": "## Problem 2\nFollowing the example we did in class, use the actual information in the syllabus for this class to write a function gcf(ng). The parameter ng is a numerical grade between 0 and 100. Your function should be fruitful and return a letter grade. In the cell below, I have placed three commands to test your function."
    },
    {
      "metadata": {
        "trusted": true
      },
      "cell_type": "code",
      "source": "# Place your code here.\n\ndef gcf(ng):\n    if ng >= 90:\n        return \"A\"\n    elif ng >= 80:\n        return \"B\"\n    elif ng >= 70:\n        return \"C\"\n    elif ng >= 60:\n        return \"D\"\n    else:\n        return \"F\"\n\nprint(gcf(93))\nprint(gcf(86))\nprint(gcf(59))",
      "execution_count": 6,
      "outputs": [
        {
          "output_type": "stream",
          "text": "A\nB\nF\n",
          "name": "stdout"
        }
      ]
    }
  ],
  "metadata": {
    "kernelspec": {
      "name": "python36",
      "display_name": "Python 3.6",
      "language": "python"
    },
    "language_info": {
      "mimetype": "text/x-python",
      "nbconvert_exporter": "python",
      "name": "python",
      "pygments_lexer": "ipython3",
      "version": "3.6.6",
      "file_extension": ".py",
      "codemirror_mode": {
        "version": 3,
        "name": "ipython"
      }
    }
  },
  "nbformat": 4,
  "nbformat_minor": 2
}
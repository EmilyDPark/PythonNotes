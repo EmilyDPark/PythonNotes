{
  "cells": [
    {
      "metadata": {},
      "cell_type": "markdown",
      "source": "# Functions"
    },
    {
      "metadata": {},
      "cell_type": "markdown",
      "source": "## Building our Own Functions"
    },
    {
      "metadata": {
        "trusted": true
      },
      "cell_type": "code",
      "source": "def print_lyrics():\n    print(\"I'm a lumberjack, and I'm okay.\")\n    print('I sleep all night and I work all day.')",
      "execution_count": 1,
      "outputs": []
    },
    {
      "metadata": {
        "trusted": true,
        "scrolled": true
      },
      "cell_type": "code",
      "source": "print_lyrics()",
      "execution_count": 2,
      "outputs": [
        {
          "output_type": "stream",
          "text": "I'm a lumberjack, and I'm okay.\nI sleep all night and I work all day.\n",
          "name": "stdout"
        }
      ]
    },
    {
      "metadata": {},
      "cell_type": "markdown",
      "source": "## Arguments, Parameters, and Return Values"
    },
    {
      "metadata": {
        "trusted": true
      },
      "cell_type": "code",
      "source": "def greet(lang):\n    if lang == 'es':\n        return 'Hola'\n    elif lang == 'fr':\n        return 'Bonjour'\n    else:\n        return 'Hello'\n\nprint(greet('en'),'Glenn')\nprint(greet('es'), 'Sally')\nprint(greet('fr'), 'Michael')",
      "execution_count": 3,
      "outputs": [
        {
          "output_type": "stream",
          "text": "Hello Glenn\nHola Sally\nBonjour Michael\n",
          "name": "stdout"
        }
      ]
    },
    {
      "metadata": {},
      "cell_type": "markdown",
      "source": "## Multiple Parameters/Arguments"
    },
    {
      "metadata": {
        "trusted": true
      },
      "cell_type": "code",
      "source": "def addtwo(a, b):\n    added = a + b\n    return added\n\nx = addtwo(3, 5)\nprint(x)",
      "execution_count": 4,
      "outputs": [
        {
          "output_type": "stream",
          "text": "8\n",
          "name": "stdout"
        }
      ]
    },
    {
      "metadata": {},
      "cell_type": "markdown",
      "source": "## Exercise\n\nChange the original code to make it use a function."
    },
    {
      "metadata": {},
      "cell_type": "markdown",
      "source": "### Original Code"
    },
    {
      "metadata": {
        "trusted": true
      },
      "cell_type": "code",
      "source": "# Enter number grade\nng = 95\n\ncond1 = (ng >= 90)\ncond2 = (ng >= 80)\ncond3 = (ng >= 70)\ncond4 = (ng >= 60)\n\nif cond1:\n    lg = \"A\"\nelif cond2:\n    lg = \"B\"\nelif cond3:\n    lg = \"C\"\nelif cond4:\n    lg = \"D\"\nelse:\n    lg = \"F\"\n\n# Print letter grade\nprint(\"Letter grade is\", lg)",
      "execution_count": 15,
      "outputs": [
        {
          "output_type": "stream",
          "text": "Letter grade is A\n",
          "name": "stdout"
        }
      ]
    },
    {
      "metadata": {},
      "cell_type": "markdown",
      "source": "### Code with Function"
    },
    {
      "metadata": {
        "trusted": true
      },
      "cell_type": "code",
      "source": "# Use return for each if/elif/else\n# Number grade entered in code\n\n# Create a grade converting function\ndef gcf(ng):\n    if ng >= 90:\n        return \"A\"\n    elif ng >= 80:\n        return \"B\"\n    elif ng >= 70:\n        return \"C\"\n    elif ng >= 60:\n        return \"D\"\n    else:\n        return \"F\"\n\n# Print letter grade\nprint(\"Letter grade is\", gcf(95))",
      "execution_count": 21,
      "outputs": [
        {
          "output_type": "stream",
          "text": "Letter grade is A\n",
          "name": "stdout"
        }
      ]
    },
    {
      "metadata": {
        "trusted": true,
        "scrolled": true
      },
      "cell_type": "code",
      "source": "# Use return for each if/elif/else\n# Number grade requested\n\n# Create a grade converting function\ndef gcf(ng):\n    if ng >= 90:\n        return \"A\"\n    elif ng >= 80:\n        return \"B\"\n    elif ng >= 70:\n        return \"C\"\n    elif ng >= 60:\n        return \"D\"\n    else:\n        return \"F\"\n\n# Request number grade\nrng = int(input(\"Enter your number grade: \"))\n\n# Print letter grade\nprint(\"Letter grade is\", gcf(rng))",
      "execution_count": 27,
      "outputs": [
        {
          "output_type": "stream",
          "name": "stdout",
          "text": "Enter your number grade: 95\nLetter grade is A\n"
        }
      ]
    },
    {
      "metadata": {
        "trusted": true
      },
      "cell_type": "code",
      "source": "# Use return at the end\n# Number grade entered in code\n\n# Create a grade converting function\ndef gcf(ng):\n    if ng >= 90:\n        lg = \"A\"\n    elif ng >= 80:\n        lg = \"B\"\n    elif ng >= 70:\n        lg = \"C\"\n    elif ng >= 60:\n        lg = \"D\"\n    else:\n        lg = \"F\"\n    return lg\n\n# Print letter grade\nprint(\"Letter grade is\", gcf(95))",
      "execution_count": 31,
      "outputs": [
        {
          "output_type": "stream",
          "text": "Letter grade is A\n",
          "name": "stdout"
        }
      ]
    }
  ],
  "metadata": {
    "kernelspec": {
      "name": "python36",
      "display_name": "Python 3.6",
      "language": "python"
    },
    "language_info": {
      "mimetype": "text/x-python",
      "nbconvert_exporter": "python",
      "name": "python",
      "pygments_lexer": "ipython3",
      "version": "3.6.6",
      "file_extension": ".py",
      "codemirror_mode": {
        "version": 3,
        "name": "ipython"
      }
    }
  },
  "nbformat": 4,
  "nbformat_minor": 2
}
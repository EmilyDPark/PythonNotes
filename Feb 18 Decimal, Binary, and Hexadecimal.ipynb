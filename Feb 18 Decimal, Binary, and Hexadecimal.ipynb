{
  "cells": [
    {
      "metadata": {
        "collapsed": true
      },
      "cell_type": "markdown",
      "source": "# Decimal, Binary, and Hexadecimal"
    },
    {
      "metadata": {},
      "cell_type": "markdown",
      "source": "### Polynomial Interpretation\n#### Assume that a binomial number is represented as a string.  \n#### The string ‘1101’ is converted to a decimal value using the expression\n#### 1∗23+1∗22+0∗21+1∗20\n#### What tells you that the highest power is 3?"
    },
    {
      "metadata": {},
      "cell_type": "markdown",
      "source": "### Ex1\n#### How would you get this value in python code?"
    },
    {
      "metadata": {
        "trusted": true
      },
      "cell_type": "code",
      "source": "degree = len('1101') - 1\ndegree",
      "execution_count": 4,
      "outputs": [
        {
          "output_type": "execute_result",
          "execution_count": 4,
          "data": {
            "text/plain": "3"
          },
          "metadata": {}
        }
      ]
    },
    {
      "metadata": {},
      "cell_type": "markdown",
      "source": "### Ex2\n#### How could you use int() to convert a binary string to a decimal value? Go to python.org and search the python 3 documentation for int"
    },
    {
      "metadata": {
        "trusted": true
      },
      "cell_type": "code",
      "source": "int('1101', base = 2)",
      "execution_count": 2,
      "outputs": [
        {
          "output_type": "execute_result",
          "execution_count": 2,
          "data": {
            "text/plain": "13"
          },
          "metadata": {}
        }
      ]
    },
    {
      "metadata": {},
      "cell_type": "markdown",
      "source": "### Ex3\n#### Write your own code to convert a binary string to its decimal value."
    },
    {
      "metadata": {
        "trusted": true
      },
      "cell_type": "code",
      "source": "binary = 1101\n\nsplit = []\ndigit = 1\ndecimal = 0\n    \nwhile(binary >= 1):\n    num = binary % 10\n    binary //= 10\n    print(binary)\n    split.append(num)\n    \nprint(split)",
      "execution_count": 14,
      "outputs": [
        {
          "output_type": "stream",
          "text": "110\n11\n1\n0\n[1, 0, 1, 1]\n",
          "name": "stdout"
        }
      ]
    },
    {
      "metadata": {
        "trusted": true
      },
      "cell_type": "code",
      "source": "def BinaryToDecimal(binary):\n    split = []\n    digit = 1\n    decimal = 0\n    \n    while(binary >= 1):\n        num = binary % 10\n        binary //= 10\n        split.append(num)\n        \n    for i in split:\n        i *= digit\n        decimal += i\n        digit += digit   \n        \n    print(decimal)\n\n\nBinaryToDecimal(1101)",
      "execution_count": 17,
      "outputs": [
        {
          "output_type": "stream",
          "text": "13\n",
          "name": "stdout"
        }
      ]
    },
    {
      "metadata": {
        "trusted": true
      },
      "cell_type": "code",
      "source": "# Professor's Answer\n\n# Get the initial values\nin_string = '1011'\nlength = len(in_string)\nexponent = length - 1\nindex = 0\nresult = 0\n\n# Do a while loop\nwhile index <= length - 1:\n    result = result + int(in_string[index]) * 2**exponent\n    exponent = exponent - 1\n    index = index + 1\nprint(result)",
      "execution_count": 4,
      "outputs": [
        {
          "output_type": "stream",
          "text": "11\n",
          "name": "stdout"
        }
      ]
    },
    {
      "metadata": {
        "trusted": true
      },
      "cell_type": "code",
      "source": "# Professor's Answer\n# For loop version\n\nin_string = '1011'\nlength = len(in_string)\nexponent = length - 1\nindex = 0\nresult = 0\n\nfor index in range(length):\n    exponent = length - 1 - index\n    result = result + int(in_string[index]) * 2**exponent\nprint(result)",
      "execution_count": 5,
      "outputs": [
        {
          "output_type": "stream",
          "text": "11\n",
          "name": "stdout"
        }
      ]
    },
    {
      "metadata": {},
      "cell_type": "markdown",
      "source": "### Ex4\n#### What would need to be changed to use this code to convert from hexadecimal to a decimal?"
    },
    {
      "metadata": {},
      "cell_type": "markdown",
      "source": "#### Answer\n1. Instead of 2exponent, we would need 16exponent.\n2. int(in_string[index]) would fail with hex digits above 9."
    },
    {
      "metadata": {},
      "cell_type": "markdown",
      "source": "### Ex5\n#### Write a program to convert from hexadecimal to decimal."
    },
    {
      "metadata": {
        "trusted": true
      },
      "cell_type": "code",
      "source": "hexdict = {'1':1, '2':2, '3':3, '4':4, '5':5, '6':6, '7':7, '8':8, '9':9, 'A':10, 'B':11, 'C':12, 'D':13, 'E':14, 'F':15 }\n\nhexa = \"D1CE\"\n\nexponent = len(hexa) - 1\nresult = 0\n\nfor digit in hexa:\n    result += (hexdict[digit] * (16**exponent))\n    exponent -= 1\n\nprint(result)",
      "execution_count": 19,
      "outputs": [
        {
          "output_type": "stream",
          "text": "53710\n",
          "name": "stdout"
        }
      ]
    },
    {
      "metadata": {
        "trusted": true
      },
      "cell_type": "code",
      "source": "def HexadecimalToDecimal(hexa):\n    hexdict = {'1':1, '2':2, '3':3, '4':4, '5':5, '6':6, '7':7, '8':8, '9':9, 'A':10, 'B':11, 'C':12, 'D':13, 'E':14, 'F':15 }\n    \n    exponent = len(hexa) - 1\n    result = 0\n\n    for digit in hexa:\n        result += (hexdict[digit] * (16**exponent))\n        exponent -= 1\n    print(result)\n    \nHexadecimalToDecimal(\"D1CE\")\nHexadecimalToDecimal(\"A5AF\")",
      "execution_count": 30,
      "outputs": [
        {
          "output_type": "stream",
          "text": "53710\n42415\n",
          "name": "stdout"
        }
      ]
    },
    {
      "metadata": {
        "trusted": true
      },
      "cell_type": "code",
      "source": "# Professor's Answer\n\n# Hex to Decimal\nhd = {'0':0,\n      '1':1,\n      '2':2,\n      '3':3,\n      '4':4,\n      '5':5,\n      '6':6,\n      '7':7,\n      '8':8,\n      '9':9,\n      'A':10,\n      'B':11,\n      'C':12,\n      'D':13,\n      'E':14,\n      'F':15}\n\ns = 'A5AF'\nlength = len(s)\nresult = 0\nfor index in range(length):\n    exponent = length - 1 - index\n    result = result + hd[s[index]] * 16**exponent\nprint(result)",
      "execution_count": 31,
      "outputs": [
        {
          "output_type": "stream",
          "text": "42415\n",
          "name": "stdout"
        }
      ]
    },
    {
      "metadata": {},
      "cell_type": "markdown",
      "source": "### Ex6\n#### Use the int() function to do the same conversion."
    },
    {
      "metadata": {
        "trusted": true
      },
      "cell_type": "code",
      "source": "s = 'A5AF'\nint(s, base = 16)",
      "execution_count": 23,
      "outputs": [
        {
          "output_type": "execute_result",
          "execution_count": 23,
          "data": {
            "text/plain": "42415"
          },
          "metadata": {}
        }
      ]
    },
    {
      "metadata": {},
      "cell_type": "markdown",
      "source": "### Ex7\n#### In order to write a program to convert from decimal to binary, the first step is to determine the highest power of 2 we need. The idea is to find the first power that’s too large and then reduce it by 1. Write a python program to determine this power."
    },
    {
      "metadata": {
        "trusted": true
      },
      "cell_type": "code",
      "source": "decimal = 100\nexponent = 0\n\nwhile(decimal // 2**exponent != 0):\n    exponent += 1\nhighestpower = exponent - 1\n\nprint(highestpower)",
      "execution_count": 32,
      "outputs": [
        {
          "output_type": "stream",
          "text": "4\n",
          "name": "stdout"
        }
      ]
    },
    {
      "metadata": {
        "trusted": true
      },
      "cell_type": "code",
      "source": "#Professor's Answer\n\ndec = 8\n\npower = 0\nwhile 2**power <= dec:\n    power = power + 1\nhighest = power - 1    \nprint(highest)    ",
      "execution_count": 10,
      "outputs": [
        {
          "output_type": "stream",
          "text": "3\n",
          "name": "stdout"
        }
      ]
    },
    {
      "metadata": {},
      "cell_type": "markdown",
      "source": "### Ex8\n#### Now use this to write a python program which converts from decimal to binary. Test it with decimal values, one of which is an even power of 2."
    },
    {
      "metadata": {
        "trusted": true
      },
      "cell_type": "code",
      "source": "# Professor's Answer\n\ndec = 17\npower = 0\nwhile 2**power <= dec:\n    power = power + 1\nhighest = power - 1    \n\nbinary = ''\npower = highest\nleft_to_do = dec\nwhile left_to_do > 0:\n    contrib = left_to_do//2**power\n    left_to_do = left_to_do - contrib*2**power\n    binary = binary + str(contrib)\n    power = power - 1\nwhile power >= 0:\n    power = power - 1\n    binary = binary + '0'\nprint(binary)",
      "execution_count": 11,
      "outputs": [
        {
          "output_type": "stream",
          "text": "10001\n",
          "name": "stdout"
        }
      ]
    }
  ],
  "metadata": {
    "kernelspec": {
      "name": "python36",
      "display_name": "Python 3.6",
      "language": "python"
    },
    "language_info": {
      "mimetype": "text/x-python",
      "nbconvert_exporter": "python",
      "name": "python",
      "pygments_lexer": "ipython3",
      "version": "3.6.6",
      "file_extension": ".py",
      "codemirror_mode": {
        "version": 3,
        "name": "ipython"
      }
    }
  },
  "nbformat": 4,
  "nbformat_minor": 2
}
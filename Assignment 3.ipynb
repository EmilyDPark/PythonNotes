{
  "cells": [
    {
      "metadata": {},
      "cell_type": "markdown",
      "source": "# Assignment 3"
    },
    {
      "metadata": {},
      "cell_type": "markdown",
      "source": "## Problem 1\nCreate a python function summer(n). Its single parameter is a positive integer. The function returns the sum of all the integers between 1 and n inclusive which are multiples of 3 or 5. Test it with the input values 10, 150, and 975."
    },
    {
      "metadata": {
        "trusted": true
      },
      "cell_type": "code",
      "source": "def summer(n):\n    total = 0\n    for x in range(n+1):\n        if (x % 3 == 0) | (x % 5 == 0):\n            total += x\n    print(total)\n    \nsummer(10)\nsummer(150)\nsummer(975)",
      "execution_count": 4,
      "outputs": [
        {
          "output_type": "stream",
          "text": "33\n5325\n222300\n",
          "name": "stdout"
        }
      ]
    },
    {
      "metadata": {},
      "cell_type": "markdown",
      "source": "## Problem 2\nWrite a python program which reads the file \"Pride and Prejudice.txt\" and produces a list of all of the lines in the file which contain either the word \"and\" or the word \"the\".  Be carefult to see these words even if they are capitalized. Also be careful to to see the first letters of \"these\" or \"there\" as the word \"the\".\nPrint the first 10 lines in this list.\n\n"
    },
    {
      "metadata": {
        "trusted": true
      },
      "cell_type": "code",
      "source": "fh = open(\"Pride and Prejudice.txt\", \"r\")\n\nandthelines = []\nfor line in fh:\n    lowerline = line.lower()\n    if (line.find(\"and\") != -1) | (line.find(\" the\") != -1):\n        andthelines.append(line)\n\nfor i in range(10):\n    print(andthelines[i])",
      "execution_count": 10,
      "outputs": [
        {
          "output_type": "stream",
          "text": "The Project Gutenberg EBook of Pride and Prejudice, by Jane Austen\n\nThis eBook is for the use of anyone anywhere at no cost and with\n\nre-use it under the terms of the Project Gutenberg License included\n\nTitle: Pride and Prejudice\n\nHowever little known the feelings or views of such a man may be on his\n\nfirst entering a neighbourhood, this truth is so well fixed in the minds\n\nof the surrounding families, that he is considered the rightful property\n\nof some one or other of their daughters.\n\n“But it is,” returned she; “for Mrs. Long has just been here, and she\n\n“_You_ want to tell me, and I have no objection to hearing it.”\n\n",
          "name": "stdout"
        }
      ]
    }
  ],
  "metadata": {
    "kernelspec": {
      "name": "python3",
      "display_name": "Python 3",
      "language": "python"
    },
    "language_info": {
      "mimetype": "text/x-python",
      "nbconvert_exporter": "python",
      "name": "python",
      "file_extension": ".py",
      "version": "3.5.4",
      "pygments_lexer": "ipython3",
      "codemirror_mode": {
        "version": 3,
        "name": "ipython"
      }
    }
  },
  "nbformat": 4,
  "nbformat_minor": 1
}
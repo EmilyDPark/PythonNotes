{
  "cells": [
    {
      "metadata": {},
      "cell_type": "markdown",
      "source": "# Assignment 5"
    },
    {
      "metadata": {},
      "cell_type": "markdown",
      "source": "## Problem 1\nRead the entire text of the file \"The Raven.tx\" and create a list, words_list, of the words in the file using the string method split() with the default split character. Print the number of words in the list using len()."
    },
    {
      "metadata": {
        "trusted": true
      },
      "cell_type": "code",
      "source": "ravenText = open('The Raven.txt', 'r')\n\nfor line in ravenText:\n    words_list += line.split()\n\nprint(len(words_list))",
      "execution_count": 4,
      "outputs": [
        {
          "output_type": "stream",
          "text": "1067\n",
          "name": "stdout"
        }
      ]
    },
    {
      "metadata": {},
      "cell_type": "markdown",
      "source": "## Problem 2\nUse the set function to create a set of all of the words in the list and name the set \"Universe\"."
    },
    {
      "metadata": {
        "trusted": true
      },
      "cell_type": "code",
      "source": "Universe = set(words_list)",
      "execution_count": 5,
      "outputs": []
    },
    {
      "metadata": {},
      "cell_type": "markdown",
      "source": "## Problem 3\nUsing set comprehension produce a set called capwords consisting of all the words in the Universe which begin with capital letters. Use re.search() and an appropriate regex. Don't forget to import re.  \n\nPrint the set and a count of the items in the set.\n\n"
    },
    {
      "metadata": {
        "trusted": true,
        "scrolled": true
      },
      "cell_type": "code",
      "source": "capwords = {word for word in Universe if word[0].isupper()}\nprint(capwords)",
      "execution_count": 10,
      "outputs": [
        {
          "output_type": "stream",
          "text": "{'By', 'Desolate', 'Tell', 'This', 'Nothing', 'Eagerly', 'Followed', 'Shall', 'Take', 'Lenore—', 'Darkness', 'Merely', 'Only', 'Clasp', 'Gilead?—tell', 'Not', 'Perched,', 'She', 'Once', 'Tempter', 'December;', 'Heaven', 'Quoth', 'Plutonian', 'So', 'Nameless', 'Lenore;', 'Let', 'Lenore!”', 'Night’s', 'Bird', 'Presently', 'Swung', 'Of', 'On', 'I,', 'Some', 'But,', 'Seraphim', 'As', 'It', 'In', 'Thrilled', 'Over', 'Raven,', 'And', 'I', 'Quaff,', 'Straight', 'While', 'Ghastly', 'Hopes', 'Fancy', 'That', 'Horror', 'Open', 'Then', 'Pallas', 'Hope', 'Leave', 'To', 'Madam,', 'Though', 'Startled', 'For', 'Is', 'Much', 'Raven', 'What', 'Ever', 'Then,', 'Deep', 'God', 'With', 'But', 'Caught', 'From', 'Lenore.”', 'Doubting,', 'Whether', 'Ah,', 'Till', 'Respite—respite', 'Soon', 'Nightly', 'Disaster', 'Back', 'Perched', 'Meant', 'Aidenn,'}\n",
          "name": "stdout"
        }
      ]
    },
    {
      "metadata": {
        "trusted": true
      },
      "cell_type": "code",
      "source": "print(len(capwords))",
      "execution_count": 11,
      "outputs": [
        {
          "output_type": "stream",
          "text": "90\n",
          "name": "stdout"
        }
      ]
    },
    {
      "metadata": {},
      "cell_type": "markdown",
      "source": "## Problem 4\nUsing set comprehension, create sets ewords and awords. An eword contains a lower case \"e\" or an uppercase \"E\". The set awords has an obvious analogous definition. Print these sets and tbeir counts. Note that the membership conditions can the \"in\" operator. A regular expression is not necessary."
    },
    {
      "metadata": {
        "trusted": true
      },
      "cell_type": "code",
      "source": "ewords = {word for word in Universe if \"e\" in word or \"E\" in word}\nprint(ewords)",
      "execution_count": 18,
      "outputs": [
        {
          "output_type": "stream",
          "text": "{'master', 'heart,', 'me', 'Desolate', 'Tell', 'seeing', 'shore!”', 'nodded,', 'thee—by', 'little', 'there—is', 'sculptured', 'relevancy', 'see,', '“surely', 'Eagerly', 'darkness', 'denser,', 'some', 'Followed', 'sainted', '“Doubtless,”', 'something', 'Take', '“Be', 'whose', 'forgotten', 'home', 'Lenore—', 'Darkness', 'Merely', 'implore;', 'lore—', 'purple', 'unbroken,', 'syllable', 'lonely', 'then,', 'Gilead?—tell', 'marvelled', 'somewhat', 'Perched,', 'stillness', 'She', 'wished', 'methought,', 'louder', 'betook', 'core;', 'Tempter', 'Once', 'store', 'whether', 'evermore.', 'eyes', 'hesitating', 'token,', 'pondered,', 'December;', 'lent', 'tossed', 'utters', 'Heaven', 'decorum', '“Lenore?”', 'more.”', 'when,', 'muttered,', 'sure', 'minute', 'stayed', 'murmured', 'Nameless', 'Lenore;', 'Let', 'mystery', 'wore,', 'reclining', 'o’er,', 'Lenore!”', 'me—filled', 'seeming', 'mien', 'here', 'volume', 'Presently', 'implore—', 'least', 'dreaming', 'silence', 'these', 'perfumed', 'shrieked,', 'above', 'undaunted,', 'beguiling', 'dream', 'gave', 'angels', 'stepped', 'fearing,', 'ancient', 'lattice;', 'me—tell', 'tempest', 'desert', 'reply', 'cushioned', 'thereat', 'surcease', 'Some', 'unseen', 'agreeing', 'velvet', 'Seraphim', 'grave', '“Wretch,”', 'farther', 'spoken!', 'weak', 'answer', 'dreams', 'silken,', 'uncertain', 'bends', 'perched', '‘Never—nevermore’.”', 'haunted—tell', 'obeisance', 'help', 'spoken,', 'stately', 'Thrilled', 'shutter,', 'name', 'felt', 'myself', 'friends', 'Over', 'peering,', 'then', 'feather', 'streaming', 'the', 'demon’s', 'heart', 'gently', 'fluttered—', 'Raven,', 'sent', 'muttered', 'tinkled', 'countenance', 'While', 'before—', 'while', 'nepenthe', 'shore!', 'entrance', 'separate', 'came', 'there', 'followed', 'one', 'enchanted—', 'dreaming,', 'seat', 'Hopes', 'melancholy', 'made', 'before;', 'Open', 'flutter,', 'wide', 'Then', 'dreary,', 'heard', 'he;', 'wondering,', 'thee', 'bore;', 'yore—', 'burden', 'shaven,', 'before.”', 'chamber', 'weary,', 'guessing,', 'broken', 'Hope', 'Leave', 'moment', 'being', 'he', 'beating', 'have', 'grew', 'whispered,', 'repeating', 'press,', 'Startled', 'faster', 'take', 'censer', 'laden', 'plume', 'lifted—nevermore!', 'explore—', 'dared', 'bore—', 'o’er', 'yore', 'you”—here', 'forgiveness', 'beak', 'leave', '“Nevermore.”', 'implore!”', 'bore', 'uttered—not', 'ever', '“Get', 'more.', 'spoken', 'beast', 'devil!—', 'yore;', 'Raven', '“Other', 'craven,', 'late', 'before.', 'shore—', 'more', 'nearly', 'Ever', 'yet', 'remember', 'evil!—prophet', 'opened', 'Then,', 'lie', 'Deep', 'wheeled', '“Lenore!”—', 'unmerciful', 'more!”', 'stopped', 'spoke', 'fiend!”', 'lies', 'meaning—little', 'be', 'burned', 'scarcely', 'unbroken!—quit', 'adore—', 'nevermore!', 'Lenore.”', 'entreating', 'engaged', '“Prophet!”', 'Whether', 'hear', 'we', 'stern', 'cried,', 'sent,', 'velvet-violet', 'terrors', 'scarce', 'ease', 'Respite—respite', 'never', 'maiden', 'gloated', 'suddenly', 'forget', 'loneliness', 'ebony', 'bleak', '“Surely,”', 'rare', 'head', 'ember', 'ashore,', 'echo', 'Disaster', 'devil!', 'Perched', 'longer,', 'blessed', 'Meant', 'fiery', 'discourse', 'Aidenn,', 'wandering', 'stronger;', 'explore;—', 'tufted', 'token', 'crest', 'whispered', 'me,', 'memories', 'expressing', 'dirges', 'each'}\n",
          "name": "stdout"
        }
      ]
    },
    {
      "metadata": {
        "trusted": true,
        "scrolled": true
      },
      "cell_type": "code",
      "source": "print(len(ewords))",
      "execution_count": 19,
      "outputs": [
        {
          "output_type": "stream",
          "text": "308\n",
          "name": "stdout"
        }
      ]
    },
    {
      "metadata": {
        "trusted": true
      },
      "cell_type": "code",
      "source": "awords = {word for word in Universe if \"a\" in word or \"A\" in word}\nprint(awords)",
      "execution_count": 20,
      "outputs": [
        {
          "output_type": "stream",
          "text": "{'tapping', 'parting,', 'had', 'master', 'heart,', 'Desolate', 'an', 'fantastic', 'and', 'foot-falls', 'relevancy', 'radiant', 'Eagerly', 'darkness', 'days', 'gloating', 'was', 'Shall', 'sainted', 'Take', 'Darkness', 'syllable', 'Clasp', 'floating', 'Gilead?—tell', 'marvelled', 'aptly', 'somewhat', 'black', 'plainly,', 'upstarting—', 'hesitating', 'than', 'shadow', 'rapping', 'Heaven', 'Plutonian', 'land', 'pallid', 'stayed', 'Nameless', 'faintly', 'saintly', 'sat', 'ghastly,', '“tapping', 'croaking', 'mortal', 'least', 'dreaming', 'that', 'undaunted,', 'above', 'lamp-light', 'dream', 'gave', 'angels', 'what', 'distant', 'air', 'fearing,', 'sad', 'ancient', 'back', 'lattice;', 'thereat', 'ungainly', 'again', 'surcease', 'agreeing', 'Seraphim', 'As', 'grave', 'said,', 'farther', 'human', 'weak', 'answer', 'shall', 'napping,', 'dreams', 'many', 'quaff', 'rapping,', 'uncertain', 'haunted—tell', 'obeisance', 'stately', 'sat,', 'name', 'feather', 'cannot', 'clasp', 'streaming', 'heart', 'ungainly,', 'balm', 'fast', 'Raven,', 'all', 'And', '“what', 'Quaff,', 'lady,', 'Straight', 'countenance', 'entrance', 'separate', 'Ghastly', 'came', 'enchanted—', 'dreaming,', 'seat', 'Fancy', 'melancholy', 'That', 'made', 'dreary,', 'heard', 'ah,', 'Pallas', 'shaven,', 'a', 'weary,', 'chamber', 'morrow;—vainly', 'Leave', 'Madam,', 'beating', 'fancy,', 'have', 'Startled', 'repeating', 'faster', 'take', 'laden', 'dared', 'beak', 'leave', 'unhappy', 'tapping,', '“art', 'beast', 'fact', 'Raven', 'craven,', 'What', 'late', 'nearly', 'sad,', 'scarcely', 'meaning—little', 'Caught', 'as', 'adore—', 'at', 'entreating', 'engaged', 'hear', 'Ah,', 'fancy', 'quaint', 'hath', 'curtain', 'scarce', 'ease', 'maiden', 'gloated', 'placid', 'gaunt,', 'bleak', 'rare', 'head', 'ashore,', 'Disaster', 'Back', 'wandering', 'Meant', 'Aidenn,', 'said', 'each'}\n",
          "name": "stdout"
        }
      ]
    },
    {
      "metadata": {
        "trusted": true
      },
      "cell_type": "code",
      "source": "print(len(awords))",
      "execution_count": 21,
      "outputs": [
        {
          "output_type": "stream",
          "text": "181\n",
          "name": "stdout"
        }
      ]
    },
    {
      "metadata": {},
      "cell_type": "markdown",
      "source": "## Problem 5\nVerify that intersection is an assoicative operation with these particular sets. The associative law states that for all sets $A$, $B$ and $C$.  \n\n$$A \\cap (B \\cap C) = (A \\cap B) \\cap C$$\n\nYou have three subsets of the Universe to make your example. Use them in any order. Note that only a single line of code is necessary."
    },
    {
      "metadata": {
        "trusted": true
      },
      "cell_type": "code",
      "source": "print(capwords & (ewords & awords) == (capwords & ewords) & awords)",
      "execution_count": 22,
      "outputs": [
        {
          "output_type": "stream",
          "text": "True\n",
          "name": "stdout"
        }
      ]
    }
  ],
  "metadata": {
    "kernelspec": {
      "name": "python36",
      "display_name": "Python 3.6",
      "language": "python"
    },
    "language_info": {
      "mimetype": "text/x-python",
      "nbconvert_exporter": "python",
      "name": "python",
      "pygments_lexer": "ipython3",
      "version": "3.6.6",
      "file_extension": ".py",
      "codemirror_mode": {
        "version": 3,
        "name": "ipython"
      }
    }
  },
  "nbformat": 4,
  "nbformat_minor": 1
}
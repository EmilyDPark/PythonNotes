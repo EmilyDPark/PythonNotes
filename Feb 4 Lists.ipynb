{
  "cells": [
    {
      "metadata": {
        "collapsed": true
      },
      "cell_type": "markdown",
      "source": "# Lists"
    },
    {
      "metadata": {},
      "cell_type": "markdown",
      "source": "### Exercise\n#### Create and print a list called west_coast containing the names of the states on the west coast of the US. Note there are four."
    },
    {
      "metadata": {
        "trusted": true,
        "scrolled": true
      },
      "cell_type": "code",
      "source": "west_coast = [\"Alaska\", \"Oregon\", \"Washington\", \"California\"]\nprint(west_coast)",
      "execution_count": 24,
      "outputs": [
        {
          "output_type": "stream",
          "text": "['Alaska', 'Oregon', 'Washington', 'California']\n",
          "name": "stdout"
        }
      ]
    },
    {
      "metadata": {},
      "cell_type": "markdown",
      "source": "### Exercise\n#### Use a for loop to print the names in your list."
    },
    {
      "metadata": {
        "trusted": true
      },
      "cell_type": "code",
      "source": "for i in west_coast:\n    print(i)",
      "execution_count": 25,
      "outputs": [
        {
          "output_type": "stream",
          "text": "Alaska\nOregon\nWashington\nCalifornia\n",
          "name": "stdout"
        }
      ]
    },
    {
      "metadata": {},
      "cell_type": "markdown",
      "source": "### Exercise\n#### Print the second element in your list using its index."
    },
    {
      "metadata": {
        "trusted": true
      },
      "cell_type": "code",
      "source": "print(west_coast[1])",
      "execution_count": 26,
      "outputs": [
        {
          "output_type": "stream",
          "text": "Oregon\n",
          "name": "stdout"
        }
      ]
    },
    {
      "metadata": {},
      "cell_type": "markdown",
      "source": "### Exercise\n#### Compute and print the length of the string west_coast."
    },
    {
      "metadata": {
        "trusted": true
      },
      "cell_type": "code",
      "source": "print(len(west_coast))",
      "execution_count": 27,
      "outputs": [
        {
          "output_type": "stream",
          "text": "4\n",
          "name": "stdout"
        }
      ]
    },
    {
      "metadata": {},
      "cell_type": "markdown",
      "source": "### Exercise\n#### Print the contents, length and type of range(4)."
    },
    {
      "metadata": {
        "trusted": true
      },
      "cell_type": "code",
      "source": "print(range(4))\nprint(len(range(4)))\nprint(type(range(4)))",
      "execution_count": 28,
      "outputs": [
        {
          "output_type": "stream",
          "text": "range(0, 4)\n4\n<class 'range'>\n",
          "name": "stdout"
        }
      ]
    },
    {
      "metadata": {},
      "cell_type": "markdown",
      "source": "### Exercise\n#### Create and print the list opposite_corner with the names Florida, Georgia, and South Carolina. Do not include Alabama. Then create the list corners by concatenating the two existing lists. Print corners."
    },
    {
      "metadata": {
        "trusted": true
      },
      "cell_type": "code",
      "source": "opposite_corner = [\"Florida\", \"Georgia\", \"South Carolina\"]\ncorners = west_coast + opposite_corner\nprint(corners)",
      "execution_count": 29,
      "outputs": [
        {
          "output_type": "stream",
          "text": "['Alaska', 'Oregon', 'Washington', 'California', 'Florida', 'Georgia', 'South Carolina']\n",
          "name": "stdout"
        }
      ]
    },
    {
      "metadata": {},
      "cell_type": "markdown",
      "source": "### Exercise\n#### Append North Carolina to your list using the append method."
    },
    {
      "metadata": {
        "trusted": true
      },
      "cell_type": "code",
      "source": "corners.append(\"North Carolina\")\nprint(corners)",
      "execution_count": 30,
      "outputs": [
        {
          "output_type": "stream",
          "text": "['Alaska', 'Oregon', 'Washington', 'California', 'Florida', 'Georgia', 'South Carolina', 'North Carolina']\n",
          "name": "stdout"
        }
      ]
    },
    {
      "metadata": {},
      "cell_type": "markdown",
      "source": "### Exercise\n#### Insert Alabama between California and Florida."
    },
    {
      "metadata": {
        "trusted": true
      },
      "cell_type": "code",
      "source": "corners.insert(4, \"Alabama\")\nprint(corners)",
      "execution_count": 31,
      "outputs": [
        {
          "output_type": "stream",
          "text": "['Alaska', 'Oregon', 'Washington', 'California', 'Alabama', 'Florida', 'Georgia', 'South Carolina', 'North Carolina']\n",
          "name": "stdout"
        }
      ]
    },
    {
      "metadata": {},
      "cell_type": "markdown",
      "source": "### Exercise\n#### p, q and r are three boolean variables. On separate lines, print out every possible combination of the three."
    },
    {
      "metadata": {
        "trusted": true,
        "scrolled": true
      },
      "cell_type": "code",
      "source": "truth_values = [True, False]\nfor p in truth_values:\n    for q in truth_values:\n        for r in truth_values:\n            print(p,q,r)\n",
      "execution_count": 32,
      "outputs": [
        {
          "output_type": "stream",
          "text": "True True True\nTrue True False\nTrue False True\nTrue False False\nFalse True True\nFalse True False\nFalse False True\nFalse False False\n",
          "name": "stdout"
        }
      ]
    },
    {
      "metadata": {},
      "cell_type": "markdown",
      "source": "### Exercise\n#### Google for help on the randint() function and use it to get and print a single random integer between 0 and 100."
    },
    {
      "metadata": {
        "trusted": true
      },
      "cell_type": "code",
      "source": "import random\nx = random.randint(0, 100)\nprint(x)",
      "execution_count": 36,
      "outputs": [
        {
          "output_type": "stream",
          "text": "23\n",
          "name": "stdout"
        }
      ]
    },
    {
      "metadata": {},
      "cell_type": "markdown",
      "source": "### Exercise\n#### Use randint() to create a list of 20 random integers between 0 and 100."
    },
    {
      "metadata": {
        "trusted": true
      },
      "cell_type": "code",
      "source": "import random\nrandlist = []\nfor x in range(20):\n    randlist.append(random.randint(0, 100))\nprint(randlist)",
      "execution_count": 42,
      "outputs": [
        {
          "output_type": "stream",
          "text": "[42, 79, 30, 15, 37, 79, 48, 82, 67, 51, 81, 58, 88, 24, 10, 54, 57, 58, 63, 90]\n",
          "name": "stdout"
        }
      ]
    },
    {
      "metadata": {},
      "cell_type": "markdown",
      "source": "### Exercise\n#### Sort and print the list you created in the last problem."
    },
    {
      "metadata": {
        "trusted": true
      },
      "cell_type": "code",
      "source": "randlist.sort()\nprint(randlist)",
      "execution_count": 44,
      "outputs": [
        {
          "output_type": "stream",
          "text": "[10, 15, 24, 30, 37, 42, 48, 51, 54, 57, 58, 58, 63, 67, 79, 79, 81, 82, 88, 90]\n",
          "name": "stdout"
        }
      ]
    },
    {
      "metadata": {},
      "cell_type": "markdown",
      "source": "### Exercise\n#### What happens if you use the sort() method on the right side of an assignment statement?"
    },
    {
      "metadata": {
        "trusted": true
      },
      "cell_type": "code",
      "source": "sorted_list = randlist.sort()\nprint(sorted_list)",
      "execution_count": 45,
      "outputs": [
        {
          "output_type": "stream",
          "text": "None\n",
          "name": "stdout"
        }
      ]
    },
    {
      "metadata": {
        "trusted": true
      },
      "cell_type": "code",
      "source": "bigger = randlist.append(150)\nprint(bigger)\n## None\nprint(randlist)\n# Note that bigger was not produced, but the append did modify randlist.",
      "execution_count": 46,
      "outputs": [
        {
          "output_type": "stream",
          "text": "None\n[10, 15, 24, 30, 37, 42, 48, 51, 54, 57, 58, 58, 63, 67, 79, 79, 81, 82, 88, 90, 150]\n",
          "name": "stdout"
        }
      ]
    },
    {
      "metadata": {},
      "cell_type": "markdown",
      "source": "### Exercise\n#### Create a function how_many_a_in_b with two parameters a and b. The parameter a is a single object of any type. The parameter b is a list. The function returns the number of times the object a is found in the list b. Test your function with a few different objects and lists."
    },
    {
      "metadata": {
        "trusted": true
      },
      "cell_type": "code",
      "source": "a = 7\nb = [1, 2, 3, 7, 7, 4, 7, 5, 7]\n\ndef how_many_a_in_b(a, b):\n    count = 0\n    for i in b:\n        if i == a:\n            count += 1\n    return count\n\nprint(how_many_a_in_b(a, b))",
      "execution_count": 50,
      "outputs": [
        {
          "output_type": "stream",
          "text": "4\n",
          "name": "stdout"
        }
      ]
    },
    {
      "metadata": {
        "trusted": true
      },
      "cell_type": "code",
      "source": "# Professor's Answer\n\n# Create the function\ndef how_many_a_in_b(a,b):\n    count = 0\n    for item in b:\n        if a == item:\n            count = count + 1\n    return count\n \n# Create some test data    \nl = list(range(5))\nl = l + l + l\n\n# Do a test\nprint(how_many_a_in_b(1,l))",
      "execution_count": 51,
      "outputs": [
        {
          "output_type": "stream",
          "text": "3\n",
          "name": "stdout"
        }
      ]
    },
    {
      "metadata": {
        "trusted": true
      },
      "cell_type": "code",
      "source": "l = list(\"Mary had a little lamb\")\nprint(l)\n# Do another test\nprint(how_many_a_in_b(\"a\",l))",
      "execution_count": 52,
      "outputs": [
        {
          "output_type": "stream",
          "text": "['M', 'a', 'r', 'y', ' ', 'h', 'a', 'd', ' ', 'a', ' ', 'l', 'i', 't', 't', 'l', 'e', ' ', 'l', 'a', 'm', 'b']\n4\n",
          "name": "stdout"
        }
      ]
    },
    {
      "metadata": {},
      "cell_type": "markdown",
      "source": "### Exercise\n#### Was it necessary to convert the string to a list in the previous exercise?"
    },
    {
      "metadata": {
        "trusted": true
      },
      "cell_type": "code",
      "source": "s = \"Mary had a little lamb\"\nprint(how_many_a_in_b(\"a\",s))\n\n# No. I wrote the function thinking of b as a list, but the only restrictions on argument types are imposed by the usage of the parameter within the body of the function.",
      "execution_count": 53,
      "outputs": [
        {
          "output_type": "stream",
          "text": "4\n",
          "name": "stdout"
        }
      ]
    },
    {
      "metadata": {},
      "cell_type": "markdown",
      "source": "### Ex1 Append and Concatenate\n#### What is the difference between appending to a list and concatenation?"
    },
    {
      "metadata": {
        "trusted": true
      },
      "cell_type": "code",
      "source": "# append\na = [1, 2, 3, 4, 5]\na.append(6)\nprint(a)",
      "execution_count": 60,
      "outputs": [
        {
          "output_type": "stream",
          "text": "[1, 2, 3, 4, 5, 6]\n",
          "name": "stdout"
        }
      ]
    },
    {
      "metadata": {
        "trusted": true,
        "scrolled": true
      },
      "cell_type": "code",
      "source": "# concatenate\nb = [1, 2, 3, 4, 5]\nb + 6",
      "execution_count": 62,
      "outputs": [
        {
          "output_type": "error",
          "ename": "TypeError",
          "evalue": "can only concatenate list (not \"int\") to list",
          "traceback": [
            "\u001b[0;31m---------------------------------------------------------------------------\u001b[0m",
            "\u001b[0;31mTypeError\u001b[0m                                 Traceback (most recent call last)",
            "\u001b[0;32m<ipython-input-62-78afcff1674e>\u001b[0m in \u001b[0;36m<module>\u001b[0;34m\u001b[0m\n\u001b[1;32m      1\u001b[0m \u001b[0;31m# concatenate\u001b[0m\u001b[0;34m\u001b[0m\u001b[0;34m\u001b[0m\u001b[0m\n\u001b[1;32m      2\u001b[0m \u001b[0mb\u001b[0m \u001b[0;34m=\u001b[0m \u001b[0;34m[\u001b[0m\u001b[0;36m1\u001b[0m\u001b[0;34m,\u001b[0m \u001b[0;36m2\u001b[0m\u001b[0;34m,\u001b[0m \u001b[0;36m3\u001b[0m\u001b[0;34m,\u001b[0m \u001b[0;36m4\u001b[0m\u001b[0;34m,\u001b[0m \u001b[0;36m5\u001b[0m\u001b[0;34m]\u001b[0m\u001b[0;34m\u001b[0m\u001b[0m\n\u001b[0;32m----> 3\u001b[0;31m \u001b[0mb\u001b[0m \u001b[0;34m+\u001b[0m \u001b[0;36m6\u001b[0m\u001b[0;34m\u001b[0m\u001b[0m\n\u001b[0m",
            "\u001b[0;31mTypeError\u001b[0m: can only concatenate list (not \"int\") to list"
          ]
        }
      ]
    },
    {
      "metadata": {},
      "cell_type": "markdown",
      "source": "### Ex2\n#### Why didn’t I store the result of appending in a new list? Try and see."
    },
    {
      "metadata": {
        "trusted": true
      },
      "cell_type": "code",
      "source": "l1 = [1,2,3]\nl2 = [4,5,6]\n\nl3c = l1 + l2\nprint(l3c)",
      "execution_count": 63,
      "outputs": [
        {
          "output_type": "stream",
          "text": "[1, 2, 3, 4, 5, 6]\n",
          "name": "stdout"
        }
      ]
    },
    {
      "metadata": {
        "trusted": true
      },
      "cell_type": "code",
      "source": "l3a = l1.append(l2)\nprint(l3a)\n\n#The method append is void. It changed l1, but it did not return a value.",
      "execution_count": 64,
      "outputs": [
        {
          "output_type": "stream",
          "text": "None\n",
          "name": "stdout"
        }
      ]
    },
    {
      "metadata": {},
      "cell_type": "markdown",
      "source": "### Ex3\n#### If a list contains another list, what does the len() function return? Does it add up the len() values of the component lists."
    },
    {
      "metadata": {
        "trusted": true
      },
      "cell_type": "code",
      "source": "print(l1)",
      "execution_count": 65,
      "outputs": [
        {
          "output_type": "stream",
          "text": "[1, 2, 3, [4, 5, 6]]\n",
          "name": "stdout"
        }
      ]
    },
    {
      "metadata": {
        "trusted": true
      },
      "cell_type": "code",
      "source": "print(len(l1))\n\n#The sublist only adds 1 to the length of the list.",
      "execution_count": 66,
      "outputs": [
        {
          "output_type": "stream",
          "text": "4\n",
          "name": "stdout"
        }
      ]
    }
  ],
  "metadata": {
    "kernelspec": {
      "name": "python36",
      "display_name": "Python 3.6",
      "language": "python"
    },
    "language_info": {
      "mimetype": "text/x-python",
      "nbconvert_exporter": "python",
      "name": "python",
      "pygments_lexer": "ipython3",
      "version": "3.6.6",
      "file_extension": ".py",
      "codemirror_mode": {
        "version": 3,
        "name": "ipython"
      }
    }
  },
  "nbformat": 4,
  "nbformat_minor": 2
}
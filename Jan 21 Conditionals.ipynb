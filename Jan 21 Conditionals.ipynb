{
  "cells": [
    {
      "metadata": {},
      "cell_type": "markdown",
      "source": "# Conditionals"
    },
    {
      "metadata": {},
      "cell_type": "markdown",
      "source": "## Comparison Operators"
    },
    {
      "metadata": {
        "scrolled": true,
        "trusted": true
      },
      "cell_type": "code",
      "source": "x = 5\n\nif x == 5 :\n    print('Equals 5')\nif x > 4 :\n    print('Greater than 4')\nif x >= 5 :\n    print('Greater than or Equal to 5')\nif x < 6 :\n    print('Less than 6')\nif x <= 5 :\n    print('Less than or Equal to 5')\nif x != 6 :\n    print('Not Equal to 6')",
      "execution_count": 10,
      "outputs": [
        {
          "name": "stdout",
          "output_type": "stream",
          "text": "Equals 5\nGreater than 4\nGreater than or Equal to 5\nLess than 6\nLess than or Equal to 5\nNot Equal to 6\n"
        }
      ]
    },
    {
      "metadata": {},
      "cell_type": "markdown",
      "source": "## One-Way Decisions"
    },
    {
      "metadata": {
        "trusted": true
      },
      "cell_type": "code",
      "source": "x = 5\n\nprint('Before 5')\nif  x == 5 :\n    print('Is 5')\n    print('Is Still 5')\n    print('Third 5')\nprint('Afterwards 5')\nprint('Before 6')\nif x == 6 :\n    print('Is 6')\n    print('Is Still 6')\n    print('Third 6')\nprint('Afterwards 6')",
      "execution_count": 17,
      "outputs": [
        {
          "name": "stdout",
          "output_type": "stream",
          "text": "Before 5\nIs 5\nIs Still 5\nThird 5\nAfterwards 5\nBefore 6\nAfterwards 6\n"
        }
      ]
    },
    {
      "metadata": {},
      "cell_type": "markdown",
      "source": "## Nested Decisions"
    },
    {
      "metadata": {
        "trusted": true
      },
      "cell_type": "code",
      "source": "x = 42\n\nif x > 1 :\n    print('More than one')\n    if x < 100 : \n        print('Less than 100') \nprint('All done')",
      "execution_count": 18,
      "outputs": [
        {
          "name": "stdout",
          "output_type": "stream",
          "text": "More than one\nLess than 100\nAll done\n"
        }
      ]
    },
    {
      "metadata": {},
      "cell_type": "markdown",
      "source": "## Two-way Decision with else"
    },
    {
      "metadata": {
        "trusted": true
      },
      "cell_type": "code",
      "source": "x = 5\n\nif x > 2 :\n    print('Bigger')\nelse :\n    print('Smaller')\n\nprint('All done')",
      "execution_count": 2,
      "outputs": [
        {
          "name": "stdout",
          "output_type": "stream",
          "text": "Bigger\nAll done\n"
        }
      ]
    },
    {
      "metadata": {},
      "cell_type": "markdown",
      "source": "## Multi-way"
    },
    {
      "metadata": {
        "trusted": true
      },
      "cell_type": "code",
      "source": "x = 5\n\nif x < 2 :\n    print('small')\nelif x < 10 :\n    print('Medium')\nelse :\n    print('LARGE')\nprint('All done')",
      "execution_count": 9,
      "outputs": [
        {
          "name": "stdout",
          "output_type": "stream",
          "text": "Medium\nAll done\n"
        }
      ]
    },
    {
      "metadata": {},
      "cell_type": "markdown",
      "source": "## Sample try / except"
    },
    {
      "metadata": {
        "trusted": true
      },
      "cell_type": "code",
      "source": "rawstr = input('Enter a number:')\n\ntry: \n    ival = int(rawstr)\nexcept: \n    ival = -1\n\nif ival > 0 :  \n    print('Nice work')\nelse:  \n    print('Not a number')",
      "execution_count": 0,
      "outputs": []
    },
    {
      "metadata": {},
      "cell_type": "markdown",
      "source": "## Exercise"
    },
    {
      "metadata": {},
      "cell_type": "markdown",
      "source": "Rewrite your pay computation to give the employee 1.5 times the hourly rate for hours worked above 40 hours.\n\nEnter Hours: 45\nEnter Rate: 10 \n\nPay: 475.0\n\n475 = 40 * 10 + 5 * 15"
    },
    {
      "metadata": {},
      "cell_type": "markdown",
      "source": "### Using If and Else"
    },
    {
      "metadata": {
        "cocalc": {
          "outputs": {
            "0": {
              "name": "input",
              "opts": {
                "password": false,
                "prompt": "Enter Hours:"
              },
              "output_type": "stream",
              "value": "45"
            },
            "1": {
              "name": "input",
              "opts": {
                "password": false,
                "prompt": "Enter Rate:"
              },
              "output_type": "stream",
              "value": "10"
            }
          }
        },
        "trusted": true
      },
      "cell_type": "code",
      "source": "input_hours = input('Enter Hours:')\ninput_rate = input('Enter Rate:')\n\nhours = float(input_hours)\nrate = float(input_rate)\n\nif hours <= 40.0 :\n    pay = hours * rate\n    print('Pay: ' + str(pay))\nelse :\n    overtime = hours - 40.0\n    pay = (40.0 * rate) + (overtime * (rate * 1.5))\n    print('Pay: ' + str(pay))",
      "execution_count": 16,
      "outputs": [
        {
          "name": "stdout",
          "output_type": "stream",
          "text": "Enter Hours: 45Enter Rate: 10Pay: 475.0\n"
        }
      ]
    },
    {
      "metadata": {},
      "cell_type": "markdown",
      "source": "### Without If"
    },
    {
      "metadata": {
        "cocalc": {
          "outputs": {
            "0": {
              "name": "input",
              "opts": {
                "password": false,
                "prompt": "Enter Hours:"
              },
              "output_type": "stream",
              "value": "35"
            },
            "1": {
              "name": "input",
              "opts": {
                "password": false,
                "prompt": "Enter Rate:"
              },
              "output_type": "stream",
              "value": "10"
            }
          }
        },
        "trusted": true
      },
      "cell_type": "code",
      "source": "input_hours = input('Enter Hours:')\ninput_rate = input('Enter Rate:')\n\nhours = float(input_hours)\nrate = float(input_rate)\n\npay = hours * rate + ((max(hours, 40) - 40) * (rate * .5))\nprint('Pay: ' + str(pay))",
      "execution_count": 9,
      "outputs": [
        {
          "name": "stdout",
          "output_type": "stream",
          "text": "Enter Hours: 35Enter Rate: 10Pay: 350.0\n"
        }
      ]
    },
    {
      "metadata": {},
      "cell_type": "markdown",
      "source": "### Convert Variable When Assigning"
    },
    {
      "metadata": {
        "cocalc": {
          "outputs": {
            "0": {
              "name": "input",
              "opts": {
                "password": false,
                "prompt": "Enter Hours:"
              },
              "output_type": "stream",
              "value": "35"
            },
            "1": {
              "name": "input",
              "opts": {
                "password": false,
                "prompt": "Enter Rate:"
              },
              "output_type": "stream",
              "value": "10"
            }
          }
        },
        "trusted": false
      },
      "cell_type": "code",
      "source": "hours = float(input('Enter Hours:'))\nrate = float(input('Enter Rate:'))\n\nif hours <= 40.0 :\n    pay = hours * rate\n    print('Pay: ' + str(pay))\nelse :\n    overtime = hours - 40.0\n    pay = (40.0 * rate) + (overtime * (rate * 1.5))\n    print('Pay: ' + str(pay))",
      "execution_count": 2,
      "outputs": [
        {
          "name": "stdout",
          "output_type": "stream",
          "text": "Enter Hours: 35Enter Rate: 10Pay: 350.0\n"
        }
      ]
    },
    {
      "metadata": {},
      "cell_type": "markdown",
      "source": "### Franck's Answer"
    },
    {
      "metadata": {
        "cocalc": {
          "outputs": {
            "0": {
              "name": "input",
              "opts": {
                "password": false,
                "prompt": "How many hours did you work this week?"
              },
              "output_type": "stream",
              "value": "45"
            },
            "1": {
              "name": "input",
              "opts": {
                "password": false,
                "prompt": "Enter your rate"
              },
              "output_type": "stream",
              "value": "10"
            }
          }
        },
        "trusted": false
      },
      "cell_type": "code",
      "source": "xhrs = input(\"How many hours did you work this week?\")\nxrate = input(\"Enter your rate\")\nxh = int(xhrs)\nxr = int(xrate)\nif xh <= 40:\n    print(\"Your pay is: \", xh*xr)\nelse:\n    print(\"Your pay is: \", (40 + (xh-40) * 1.5) * xr)",
      "execution_count": 18,
      "outputs": [
        {
          "name": "stdout",
          "output_type": "stream",
          "text": "How many hours did you work this week? 45Enter your rate 10Your pay is:  475.0\n"
        }
      ]
    }
  ],
  "metadata": {
    "kernelspec": {
      "name": "python3",
      "display_name": "Python 3",
      "language": "python"
    },
    "language_info": {
      "mimetype": "text/x-python",
      "nbconvert_exporter": "python",
      "name": "python",
      "pygments_lexer": "ipython3",
      "version": "3.5.4",
      "file_extension": ".py",
      "codemirror_mode": {
        "version": 3,
        "name": "ipython"
      }
    }
  },
  "nbformat": 4,
  "nbformat_minor": 1
}
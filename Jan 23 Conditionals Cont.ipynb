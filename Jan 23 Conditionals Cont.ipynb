{
  "cells": [
    {
      "metadata": {},
      "cell_type": "markdown",
      "source": "# Conditionals Cont."
    },
    {
      "metadata": {},
      "cell_type": "markdown",
      "source": "## If Alone"
    },
    {
      "metadata": {
        "trusted": false
      },
      "cell_type": "code",
      "source": "cond1 = True\ncond2 = False\nif cond1:\n    if cond2:\n        print(\"Point A\")\n    print(\"Point B\")\n\nprint(\"Point C\")",
      "execution_count": 6,
      "outputs": [
        {
          "name": "stdout",
          "output_type": "stream",
          "text": "Point B\nPoint C\n"
        }
      ]
    },
    {
      "metadata": {},
      "cell_type": "markdown",
      "source": "## If + Else"
    },
    {
      "metadata": {
        "trusted": false
      },
      "cell_type": "code",
      "source": "cond1 = True\n\nif cond1:\n    print(\"Point A\")\nelse:\n    print(\"Point B\")\nprint(\"Point C\")",
      "execution_count": 7,
      "outputs": [
        {
          "name": "stdout",
          "output_type": "stream",
          "text": "Point A\nPoint C\n"
        }
      ]
    },
    {
      "metadata": {},
      "cell_type": "markdown",
      "source": "## If + Elif"
    },
    {
      "metadata": {
        "trusted": false
      },
      "cell_type": "code",
      "source": "cond1 = True\ncond2 = True\ncond3 = True\nif cond1:\n    print(\"Point A\")\nelif cond2:\n    print(\"Point B\")\nelif cond3:\n    print(\"Point C\")\nprint(\"Point D\")",
      "execution_count": 10,
      "outputs": [
        {
          "name": "stdout",
          "output_type": "stream",
          "text": "Point A\nPoint D\n"
        }
      ]
    },
    {
      "metadata": {},
      "cell_type": "markdown",
      "source": "## If + Elif + Else"
    },
    {
      "metadata": {
        "trusted": false
      },
      "cell_type": "code",
      "source": "cond1 = True\ncond2 = True\ncond3 = True\nif cond1:\n    print(\"Point A\")\nelif cond2:\n    print(\"Point B\")\nelif cond3:\n    print(\"Point C\")\nelse:\n    print(\"Point D\")\nprint(\"Point E\")",
      "execution_count": 0,
      "outputs": []
    },
    {
      "metadata": {},
      "cell_type": "markdown",
      "source": "## Exercise\n\nGrade Conversion from number to letter.\nJust use 90, 80, 70. 60 as breakpoints.\n\nng = \n\nYour code goes here\n\nprint(\"Letter grade is\", lg)"
    },
    {
      "metadata": {
        "trusted": false
      },
      "cell_type": "code",
      "source": "# Enter number grade\nng = 100\n\ncond1 = (ng >= 90)\ncond2 = (ng >= 80)\ncond3 = (ng >= 70)\ncond4 = (ng >= 60)\n\nif cond1:\n    lg = \"A\"\nelif cond2:\n    lg = \"B\"\nelif cond3:\n    lg = \"C\"\nelif cond4:\n    lg = \"D\"\nelse:\n    lg = \"F\"\n\n# Print letter grade\nprint(\"Letter grade is\", lg)",
      "execution_count": 32,
      "outputs": [
        {
          "name": "stdout",
          "output_type": "stream",
          "text": "Letter grade is A\n"
        }
      ]
    },
    {
      "metadata": {
        "cocalc": {
          "outputs": {
            "0": {
              "name": "input",
              "opts": {
                "password": false,
                "prompt": "Enter number grade:"
              },
              "output_type": "stream",
              "value": "83"
            }
          }
        },
        "trusted": true,
        "scrolled": true
      },
      "cell_type": "code",
      "source": "# Request number grade\nng = int(input(\"Enter number grade: \"))\n\ncond1 = (ng >= 90)\ncond2 = (ng >= 80)\ncond3 = (ng >= 70)\ncond4 = (ng >= 60)\n\nif cond1:\n    lg = \"A\"\nelif cond2:\n    lg = \"B\"\nelif cond3:\n    lg = \"C\"\nelif cond4:\n    lg = \"D\"\nelse:\n    lg = \"F\"\n\n# Print letter grade\nprint(\"Letter grade is\", lg)",
      "execution_count": 2,
      "outputs": [
        {
          "output_type": "stream",
          "name": "stdout",
          "text": "Enter number grade: 95\nLetter grade is A\n"
        }
      ]
    },
    {
      "metadata": {
        "trusted": true
      },
      "cell_type": "code",
      "source": "# Request number grade\nng = int(input(\"Enter number grade: \"))\n\nif ng >= 90:\n    lg = \"A\"\nelif ng >= 80:\n    lg = \"B\"\nelif ng >= 70:\n    lg = \"C\"\nelif ng >= 60:\n    lg = \"D\"\nelse:\n    lg = \"F\"\n\n# Print letter grade\nprint(\"Letter grade is\", lg)",
      "execution_count": 5,
      "outputs": [
        {
          "output_type": "stream",
          "name": "stdout",
          "text": "Enter number grade: 95\nLetter grade is A\n"
        }
      ]
    }
  ],
  "metadata": {
    "kernelspec": {
      "name": "python36",
      "display_name": "Python 3.6",
      "language": "python"
    },
    "language_info": {
      "mimetype": "text/x-python",
      "nbconvert_exporter": "python",
      "name": "python",
      "pygments_lexer": "ipython3",
      "version": "3.6.6",
      "file_extension": ".py",
      "codemirror_mode": {
        "version": 3,
        "name": "ipython"
      }
    }
  },
  "nbformat": 4,
  "nbformat_minor": 1
}
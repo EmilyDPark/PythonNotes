{
  "cells": [
    {
      "metadata": {},
      "cell_type": "markdown",
      "source": "# Iterations"
    },
    {
      "metadata": {},
      "cell_type": "markdown",
      "source": "### Exercise 1\n#### Copy the code above to a Jupyter notebook and try the variations. After you write one, try to predict what the code will do, then run it. Five minutes."
    },
    {
      "metadata": {},
      "cell_type": "markdown",
      "source": "### Original Code"
    },
    {
      "metadata": {
        "trusted": true
      },
      "cell_type": "code",
      "source": "i = 0\nwhile i < 5:\n    i = i + 1\n    print(i)",
      "execution_count": 1,
      "outputs": [
        {
          "output_type": "stream",
          "text": "1\n2\n3\n4\n5\n",
          "name": "stdout"
        }
      ]
    },
    {
      "metadata": {},
      "cell_type": "markdown",
      "source": "### Variations"
    },
    {
      "metadata": {},
      "cell_type": "markdown",
      "source": "#### Change i to 1"
    },
    {
      "metadata": {
        "trusted": true
      },
      "cell_type": "code",
      "source": "i = 1\nwhile i < 5:\n    i = i + 1\n    print(i)",
      "execution_count": 2,
      "outputs": [
        {
          "output_type": "stream",
          "text": "2\n3\n4\n5\n",
          "name": "stdout"
        }
      ]
    },
    {
      "metadata": {},
      "cell_type": "markdown",
      "source": "#### Change < to <="
    },
    {
      "metadata": {
        "trusted": true
      },
      "cell_type": "code",
      "source": "i = 0\nwhile i <= 5:\n    i = i + 1\n    print(i)",
      "execution_count": 3,
      "outputs": [
        {
          "output_type": "stream",
          "text": "1\n2\n3\n4\n5\n6\n",
          "name": "stdout"
        }
      ]
    },
    {
      "metadata": {},
      "cell_type": "markdown",
      "source": "#### Change i to 1 and Change < to <="
    },
    {
      "metadata": {
        "trusted": true
      },
      "cell_type": "code",
      "source": "i = 1\nwhile i <= 5:\n    i = i + 1\n    print(i)",
      "execution_count": 4,
      "outputs": [
        {
          "output_type": "stream",
          "text": "2\n3\n4\n5\n6\n",
          "name": "stdout"
        }
      ]
    },
    {
      "metadata": {},
      "cell_type": "markdown",
      "source": "#### Move expression after print"
    },
    {
      "metadata": {
        "trusted": true
      },
      "cell_type": "code",
      "source": "i = 0\nwhile i < 5:\n    print(i)\n    i = i + 1",
      "execution_count": 5,
      "outputs": [
        {
          "output_type": "stream",
          "text": "0\n1\n2\n3\n4\n",
          "name": "stdout"
        }
      ]
    },
    {
      "metadata": {},
      "cell_type": "markdown",
      "source": "#### Change i to 1 and Move expression after print"
    },
    {
      "metadata": {
        "trusted": true
      },
      "cell_type": "code",
      "source": "i = 1\nwhile i < 5:\n    print(i)\n    i = i + 1",
      "execution_count": 6,
      "outputs": [
        {
          "output_type": "stream",
          "text": "1\n2\n3\n4\n",
          "name": "stdout"
        }
      ]
    },
    {
      "metadata": {},
      "cell_type": "markdown",
      "source": "#### Change < to <= and Move expression after print"
    },
    {
      "metadata": {
        "trusted": true
      },
      "cell_type": "code",
      "source": "i = 0\nwhile i <= 5:\n    print(i)\n    i = i + 1",
      "execution_count": 7,
      "outputs": [
        {
          "output_type": "stream",
          "text": "0\n1\n2\n3\n4\n5\n",
          "name": "stdout"
        }
      ]
    },
    {
      "metadata": {},
      "cell_type": "markdown",
      "source": "#### Change i to 1, Change < to <=, and Move expression after print"
    },
    {
      "metadata": {
        "trusted": true
      },
      "cell_type": "code",
      "source": "i = 1\nwhile i <= 5:\n    print(i)\n    i = i + 1",
      "execution_count": 8,
      "outputs": [
        {
          "output_type": "stream",
          "text": "1\n2\n3\n4\n5\n",
          "name": "stdout"
        }
      ]
    },
    {
      "metadata": {},
      "cell_type": "markdown",
      "source": "**Comment**  \nIndefinite loops are error-prone. I only use them when I can’t define ahead of time what values the loop variable should take on. One example of an appropriate usage is when prompting a user for input and checking the user’s response for correctness."
    },
    {
      "metadata": {},
      "cell_type": "markdown",
      "source": "### Exercise 2\n#### Prompt a user to provide an integer. If the user gives an inappropriate response, give the use another chance. There is no limit to the possible number of chances."
    },
    {
      "metadata": {
        "trusted": true
      },
      "cell_type": "code",
      "source": "# Using a try except block within a function\n\ndef if_integer():\n    try:\n        x = input(\"Provide an integer: \")\n        int(x)\n        print(\"Thank you\")\n    except:\n        print(\"Try again\")\n        if_integer()\n\nif_integer()",
      "execution_count": 2,
      "outputs": [
        {
          "output_type": "stream",
          "name": "stdout",
          "text": "Provide an integer: hi\nTry again\nProvide an integer: hi\nTry again\nProvide an integer: hi\nTry again\nProvide an integer: hello\nTry again\nProvide an integer: 15\nThank you\n"
        }
      ]
    },
    {
      "metadata": {
        "trusted": true,
        "scrolled": true
      },
      "cell_type": "code",
      "source": "# Professor's Answer\n\nwhile True:\n    n_str = input(\"Give me an integer: \")\n    try:\n        n_int = int(n_str)\n        break\n    except:\n        print(\"Try again for an integer\")\nprint(\"Success: Your integer is\", n_int)",
      "execution_count": 4,
      "outputs": [
        {
          "output_type": "stream",
          "name": "stdout",
          "text": "Give me an integer: hi\nTry again for an integer\nGive me an integer: hi\nTry again for an integer\nGive me an integer: hi\nTry again for an integer\nGive me an integer: hello\nTry again for an integer\nGive me an integer: 15\nSuccess: Your integer is 15\n"
        }
      ]
    },
    {
      "metadata": {},
      "cell_type": "markdown",
      "source": "## Lists\n\n#### Crash Course: Lists\nA list consists of multiple python objects, separated by commas and enclosed in square brackets.  \nThe in operator can be used to test for the presence of a particular value in the list.  \nThe members of the list can be referenced by indexing, where the first value has an index of 0.  \nYou can iterate over the objects in the list."
    },
    {
      "metadata": {
        "trusted": true
      },
      "cell_type": "code",
      "source": "li = [\"Tom\", \"Dick\", 3]\nprint(li[0])",
      "execution_count": 11,
      "outputs": [
        {
          "output_type": "stream",
          "text": "Tom\n",
          "name": "stdout"
        }
      ]
    },
    {
      "metadata": {
        "trusted": true
      },
      "cell_type": "code",
      "source": "for i in li:\n    print(i)",
      "execution_count": 10,
      "outputs": [
        {
          "output_type": "stream",
          "text": "Tom\nDick\n3\n",
          "name": "stdout"
        }
      ]
    },
    {
      "metadata": {},
      "cell_type": "markdown",
      "source": "### Exercise\n#### Create a function avg_the_list(nl). The parameter nl is a list in which all of the members are numbers. The function is fruitful and it returns the average value of the numbers in the list.\n#### Test your function using tl = [1,2,3,4]"
    },
    {
      "metadata": {
        "trusted": true
      },
      "cell_type": "code",
      "source": "def avg_the_list(nl):\n    sum = 0\n    iter = 0\n    for i in nl:\n        iter = iter + 1\n        sum = sum + i\n    #print(sum, iter)\n    avg = sum / iter\n    return avg\n    \ntl = [1,2,3,4]\nprint(avg_the_list(tl))",
      "execution_count": 37,
      "outputs": [
        {
          "output_type": "stream",
          "text": "2.5\n",
          "name": "stdout"
        }
      ]
    },
    {
      "metadata": {
        "trusted": true
      },
      "cell_type": "code",
      "source": "# Professor's Answer\n\ndef avg_the_list(nl):\n    sum = 0\n    n = 0\n    for i in nl:\n        sum = sum + i\n        n = n + 1\n    avg = sum/n\n    return avg\n\ntl = [1,2,3,4]\nprint(avg_the_list(tl))",
      "execution_count": 68,
      "outputs": [
        {
          "output_type": "stream",
          "text": "2.5\n",
          "name": "stdout"
        }
      ]
    },
    {
      "metadata": {},
      "cell_type": "markdown",
      "source": "### Exercise\n#### Create a function avg_the_oodds(nl) by modifying the previous function so that returns the average value of the odd integers in the list. \n\n#### Again, test it using tl = [1,2,3,4]."
    },
    {
      "metadata": {
        "trusted": true
      },
      "cell_type": "code",
      "source": "# Original code\n\ndef avg_the_list(nl):\n    sum = 0\n    iter = 0\n    for i in nl:\n        iter = iter + 1\n        sum = sum + i\n    #print(sum, iter)\n    avg = sum / iter\n    return avg\n    \ntl = [1,2,3,4]\nprint(avg_the_list(tl))",
      "execution_count": 59,
      "outputs": [
        {
          "output_type": "stream",
          "text": "10 4\n2.5\n",
          "name": "stdout"
        }
      ]
    },
    {
      "metadata": {
        "trusted": true
      },
      "cell_type": "code",
      "source": "# Modified to average even numbers\n\ndef avg_the_evens(nl):\n    sum = 0\n    iter = 0\n    for i in nl:\n        if i%2 == 0:\n            iter = iter + 1\n            sum = sum + i\n    print(sum, iter)\n    avg = sum / iter\n    return avg\n    \ntl = [1,2,3,4]\nprint(avg_the_evens(tl))",
      "execution_count": 63,
      "outputs": [
        {
          "output_type": "stream",
          "text": "6 2\n3.0\n",
          "name": "stdout"
        }
      ]
    },
    {
      "metadata": {
        "trusted": true
      },
      "cell_type": "code",
      "source": "# Modified to average odd numbers\n\ndef avg_the_odds(nl):\n    sum = 0\n    iter = 0\n    for i in nl:\n        if i%2 != 0:\n            iter = iter + 1\n            sum = sum + i\n    print(sum, iter)\n    avg = sum / iter\n    return avg\n    \ntl = [1,2,3,4]\nprint(avg_the_odds(tl))",
      "execution_count": 64,
      "outputs": [
        {
          "output_type": "stream",
          "text": "4 2\n2.0\n",
          "name": "stdout"
        }
      ]
    },
    {
      "metadata": {},
      "cell_type": "markdown",
      "source": "### Exercise\n#### Create a function largest(nl). The parameter nl is a list of numbers. The function returns the largest value in the list. Assume that you can’t assume anything about the numbers in the list. How would you initialize the largest value? \n#### Test your function with tl = [1,-5,16,76,127,4]"
    },
    {
      "metadata": {
        "trusted": true
      },
      "cell_type": "code",
      "source": "def largest(nl):\n    largest_so_far = nl[0]\n    for i in nl:\n        if i > largest_so_far:\n            largest_so_far = i\n    return(largest_so_far)\n\ntl = [1,-5,16,76,127,4]\nprint(largest(tl))",
      "execution_count": 3,
      "outputs": [
        {
          "output_type": "stream",
          "text": "127\n",
          "name": "stdout"
        }
      ]
    },
    {
      "metadata": {},
      "cell_type": "markdown",
      "source": "### Exercise\n#### Modify largest() to create smallest()."
    },
    {
      "metadata": {
        "trusted": true
      },
      "cell_type": "code",
      "source": "def smallest(nl):\n    smallest_so_far = nl[0]\n    for i in nl:\n        if i < smallest_so_far:\n            smallest_so_far = i\n    return(smallest_so_far)\n\ntl = [1,-5,16,76,127,4]\nprint(smallest(tl))",
      "execution_count": 5,
      "outputs": [
        {
          "output_type": "stream",
          "text": "-5\n",
          "name": "stdout"
        }
      ]
    },
    {
      "metadata": {},
      "cell_type": "markdown",
      "source": "### Exercise\n#### Write a program to compute the sum of the first 500 integers using a for loop."
    },
    {
      "metadata": {
        "trusted": true
      },
      "cell_type": "code",
      "source": "# Use range\n\nsum = 0\nfor i in range(500):\n    x = i + 1\n    sum = sum + x\nprint(sum)",
      "execution_count": 12,
      "outputs": [
        {
          "output_type": "stream",
          "text": "125250\n",
          "name": "stdout"
        }
      ]
    },
    {
      "metadata": {
        "trusted": true
      },
      "cell_type": "code",
      "source": "# if x <= 500\n\nsum = 0\ni = 1\nwhile i <= 500:\n    sum = sum + i\n    i = i + 1\nprint(sum)",
      "execution_count": 13,
      "outputs": [
        {
          "output_type": "stream",
          "text": "125250\n",
          "name": "stdout"
        }
      ]
    }
  ],
  "metadata": {
    "kernelspec": {
      "name": "python36",
      "display_name": "Python 3.6",
      "language": "python"
    },
    "language_info": {
      "mimetype": "text/x-python",
      "nbconvert_exporter": "python",
      "name": "python",
      "pygments_lexer": "ipython3",
      "version": "3.6.6",
      "file_extension": ".py",
      "codemirror_mode": {
        "version": 3,
        "name": "ipython"
      }
    }
  },
  "nbformat": 4,
  "nbformat_minor": 2
}
{
  "cells": [
    {
      "metadata": {
        "collapsed": true
      },
      "cell_type": "markdown",
      "source": "# Sets"
    },
    {
      "metadata": {},
      "cell_type": "markdown",
      "source": "### Sets, Lists and Tuples\n#### From the Datacamp Tutorial on sets.\n\n#### “The major difference is that sets, unlike lists or tuples, cannot have multiple occurrences of the same element and store unordered values.”"
    },
    {
      "metadata": {},
      "cell_type": "markdown",
      "source": "### Exercise\n#### Create ASet, AList and ATuple, all of which contain “cat”, “dog” and “parrot”. Print the type of each."
    },
    {
      "metadata": {
        "trusted": true
      },
      "cell_type": "code",
      "source": "AList = [\"cat\",\"dog\",\"parrot\"]\nATuple = (\"cat\",\"dog\",\"parrot\")\nASet = {\"cat\",\"dog\",\"parrot\"}",
      "execution_count": 10,
      "outputs": []
    },
    {
      "metadata": {
        "trusted": true
      },
      "cell_type": "code",
      "source": "print(type(AList))",
      "execution_count": 11,
      "outputs": [
        {
          "output_type": "stream",
          "text": "<class 'list'>\n",
          "name": "stdout"
        }
      ]
    },
    {
      "metadata": {
        "trusted": true
      },
      "cell_type": "code",
      "source": "print(type(ATuple))",
      "execution_count": 12,
      "outputs": [
        {
          "output_type": "stream",
          "text": "<class 'tuple'>\n",
          "name": "stdout"
        }
      ]
    },
    {
      "metadata": {
        "trusted": true
      },
      "cell_type": "code",
      "source": "print(type(ASet))",
      "execution_count": 13,
      "outputs": [
        {
          "output_type": "stream",
          "text": "<class 'set'>\n",
          "name": "stdout"
        }
      ]
    },
    {
      "metadata": {},
      "cell_type": "markdown",
      "source": "### Exercise\n#### Attempt to obtain the first value of each collection. How does python respond?"
    },
    {
      "metadata": {
        "trusted": true
      },
      "cell_type": "code",
      "source": "print(AList[0])",
      "execution_count": 14,
      "outputs": [
        {
          "output_type": "stream",
          "text": "cat\n",
          "name": "stdout"
        }
      ]
    },
    {
      "metadata": {
        "trusted": true
      },
      "cell_type": "code",
      "source": "print(ATuple[0])",
      "execution_count": 15,
      "outputs": [
        {
          "output_type": "stream",
          "text": "cat\n",
          "name": "stdout"
        }
      ]
    },
    {
      "metadata": {
        "trusted": true
      },
      "cell_type": "code",
      "source": "print(ASet[0])",
      "execution_count": 16,
      "outputs": [
        {
          "output_type": "error",
          "ename": "TypeError",
          "evalue": "'set' object does not support indexing",
          "traceback": [
            "\u001b[0;31m---------------------------------------------------------------------------\u001b[0m",
            "\u001b[0;31mTypeError\u001b[0m                                 Traceback (most recent call last)",
            "\u001b[0;32m<ipython-input-16-43788c1b695b>\u001b[0m in \u001b[0;36m<module>\u001b[0;34m\u001b[0m\n\u001b[0;32m----> 1\u001b[0;31m \u001b[0mprint\u001b[0m\u001b[0;34m(\u001b[0m\u001b[0mASet\u001b[0m\u001b[0;34m[\u001b[0m\u001b[0;36m0\u001b[0m\u001b[0;34m]\u001b[0m\u001b[0;34m)\u001b[0m\u001b[0;34m\u001b[0m\u001b[0m\n\u001b[0m",
            "\u001b[0;31mTypeError\u001b[0m: 'set' object does not support indexing"
          ]
        }
      ]
    },
    {
      "metadata": {},
      "cell_type": "markdown",
      "source": "### Exercise\n#### Write for loops to iterate over and print the contents of these collections. Observations?"
    },
    {
      "metadata": {
        "trusted": true
      },
      "cell_type": "code",
      "source": "for item in AList:\n    print(item)",
      "execution_count": 17,
      "outputs": [
        {
          "output_type": "stream",
          "text": "cat\ndog\nparrot\n",
          "name": "stdout"
        }
      ]
    },
    {
      "metadata": {
        "trusted": true
      },
      "cell_type": "code",
      "source": "for item in ATuple:\n    print(item)",
      "execution_count": 18,
      "outputs": [
        {
          "output_type": "stream",
          "text": "cat\ndog\nparrot\n",
          "name": "stdout"
        }
      ]
    },
    {
      "metadata": {
        "trusted": true
      },
      "cell_type": "code",
      "source": "for item in ASet:\n    print(item)",
      "execution_count": 19,
      "outputs": [
        {
          "output_type": "stream",
          "text": "dog\nparrot\ncat\n",
          "name": "stdout"
        }
      ]
    },
    {
      "metadata": {},
      "cell_type": "markdown",
      "source": "I observed that the order of items printed from the set was not what I used when I created the set."
    },
    {
      "metadata": {},
      "cell_type": "markdown",
      "source": "### Alternatives\n#### Create BList, BTuple and BSet. They have the same items as the A variants, but the cat appears last instead of first."
    },
    {
      "metadata": {
        "trusted": true
      },
      "cell_type": "code",
      "source": "BList = [\"dog\",\"parrot\",\"cat\"]\nBTuple = (\"dog\",\"parrot\",\"cat\")\nBSet = {\"dog\",\"parrot\",\"cat\"}",
      "execution_count": 20,
      "outputs": []
    },
    {
      "metadata": {},
      "cell_type": "markdown",
      "source": "### Exercise\n#### Test the A and B variants for equality. What do you observe?"
    },
    {
      "metadata": {
        "trusted": true
      },
      "cell_type": "code",
      "source": "# The lists\nprint(AList == BList)",
      "execution_count": 21,
      "outputs": [
        {
          "output_type": "stream",
          "text": "False\n",
          "name": "stdout"
        }
      ]
    },
    {
      "metadata": {
        "trusted": true
      },
      "cell_type": "code",
      "source": "# The tuples\nprint(ATuple == BTuple)",
      "execution_count": 22,
      "outputs": [
        {
          "output_type": "stream",
          "text": "False\n",
          "name": "stdout"
        }
      ]
    },
    {
      "metadata": {
        "trusted": true
      },
      "cell_type": "code",
      "source": "# The sets\nprint(ASet == BSet)",
      "execution_count": 23,
      "outputs": [
        {
          "output_type": "stream",
          "text": "True\n",
          "name": "stdout"
        }
      ]
    },
    {
      "metadata": {},
      "cell_type": "markdown",
      "source": "### Create the C Variants\n#### To each of the collection definitions, add another “dog” as a fourth entry."
    },
    {
      "metadata": {
        "trusted": true
      },
      "cell_type": "code",
      "source": "CList = [\"cat\",\"dog\",\"parrot\",\"dog\"]\nCTuple = (\"cat\",\"dog\",\"parrot\",\"dog\")\nCSet = {\"cat\",\"dog\",\"parrot\",\"dog\"}",
      "execution_count": 24,
      "outputs": []
    },
    {
      "metadata": {},
      "cell_type": "markdown",
      "source": "### Exercise\n#### Print each of these and observe the difference."
    },
    {
      "metadata": {
        "trusted": true
      },
      "cell_type": "code",
      "source": "print(CList)",
      "execution_count": 25,
      "outputs": [
        {
          "output_type": "stream",
          "text": "['cat', 'dog', 'parrot', 'dog']\n",
          "name": "stdout"
        }
      ]
    },
    {
      "metadata": {
        "trusted": true
      },
      "cell_type": "code",
      "source": "print(CTuple)",
      "execution_count": 26,
      "outputs": [
        {
          "output_type": "stream",
          "text": "('cat', 'dog', 'parrot', 'dog')\n",
          "name": "stdout"
        }
      ]
    },
    {
      "metadata": {
        "trusted": true
      },
      "cell_type": "code",
      "source": "print(CSet)",
      "execution_count": 28,
      "outputs": [
        {
          "output_type": "stream",
          "text": "{'dog', 'parrot', 'cat'}\n",
          "name": "stdout"
        }
      ]
    },
    {
      "metadata": {},
      "cell_type": "markdown",
      "source": "### Exercise\n#### Try the len function on the C variants."
    },
    {
      "metadata": {
        "trusted": true
      },
      "cell_type": "code",
      "source": "print(len(CList))",
      "execution_count": 29,
      "outputs": [
        {
          "output_type": "stream",
          "text": "4\n",
          "name": "stdout"
        }
      ]
    },
    {
      "metadata": {
        "trusted": true
      },
      "cell_type": "code",
      "source": "print(len(CTuple))",
      "execution_count": 30,
      "outputs": [
        {
          "output_type": "stream",
          "text": "4\n",
          "name": "stdout"
        }
      ]
    },
    {
      "metadata": {
        "trusted": true
      },
      "cell_type": "code",
      "source": "print(len(CSet))",
      "execution_count": 31,
      "outputs": [
        {
          "output_type": "stream",
          "text": "3\n",
          "name": "stdout"
        }
      ]
    },
    {
      "metadata": {},
      "cell_type": "markdown",
      "source": "## Sets and Dictionaries\n#### These two data structures share the curly. In the case of a non-empty curly a set can be distinguished from a dictionary by the absence of the : structure in the case of a set."
    },
    {
      "metadata": {},
      "cell_type": "markdown",
      "source": "### Example"
    },
    {
      "metadata": {
        "trusted": true
      },
      "cell_type": "code",
      "source": "pets_dict = {\"dog\":2,\"cat\":1,\"parrot\":0}\n\npets_set = {\"Fido\",\"Felix\"}",
      "execution_count": 55,
      "outputs": []
    },
    {
      "metadata": {
        "trusted": true
      },
      "cell_type": "code",
      "source": "print(pets_dict)",
      "execution_count": 56,
      "outputs": [
        {
          "output_type": "stream",
          "text": "{'dog': 2, 'cat': 1, 'parrot': 0}\n",
          "name": "stdout"
        }
      ]
    },
    {
      "metadata": {
        "trusted": true
      },
      "cell_type": "code",
      "source": "print(pets_set)",
      "execution_count": 57,
      "outputs": [
        {
          "output_type": "stream",
          "text": "{'Fido', 'Felix'}\n",
          "name": "stdout"
        }
      ]
    },
    {
      "metadata": {},
      "cell_type": "markdown",
      "source": "This means that two curlies with nothing included is an empty dictionary. An empty set is given by set()."
    },
    {
      "metadata": {},
      "cell_type": "markdown",
      "source": "### Exercise\n#### Add a python to the dictionary and the set. The pythons name is “Cool guy”."
    },
    {
      "metadata": {
        "trusted": true
      },
      "cell_type": "code",
      "source": "pets_dict[\"python\"] = 1\n\npets_set.add(\"Cool guy\")",
      "execution_count": 58,
      "outputs": []
    },
    {
      "metadata": {
        "trusted": true
      },
      "cell_type": "code",
      "source": "print(pets_dict)",
      "execution_count": 59,
      "outputs": [
        {
          "output_type": "stream",
          "text": "{'dog': 2, 'cat': 1, 'parrot': 0, 'python': 1}\n",
          "name": "stdout"
        }
      ]
    },
    {
      "metadata": {
        "trusted": true
      },
      "cell_type": "code",
      "source": "print(pets_set)",
      "execution_count": 60,
      "outputs": [
        {
          "output_type": "stream",
          "text": "{'Fido', 'Cool guy', 'Felix'}\n",
          "name": "stdout"
        }
      ]
    },
    {
      "metadata": {},
      "cell_type": "markdown",
      "source": "Note that sets are quite mutable."
    },
    {
      "metadata": {},
      "cell_type": "markdown",
      "source": "### Exercise\n#### The cat died, so we want to update the set and dictionary."
    },
    {
      "metadata": {
        "trusted": true
      },
      "cell_type": "code",
      "source": "pets_dict[\"cat\"] = 0\npets_set.discard(\"Felix\")\n\n# Better to use .discard than .remove\n# If you try to .remove something that is not there, you will get a traceback error",
      "execution_count": 61,
      "outputs": []
    },
    {
      "metadata": {
        "trusted": true
      },
      "cell_type": "code",
      "source": "print(pets_dict)",
      "execution_count": 62,
      "outputs": [
        {
          "output_type": "stream",
          "text": "{'dog': 2, 'cat': 0, 'parrot': 0, 'python': 1}\n",
          "name": "stdout"
        }
      ]
    },
    {
      "metadata": {
        "trusted": true
      },
      "cell_type": "code",
      "source": "print(pets_set)",
      "execution_count": 63,
      "outputs": [
        {
          "output_type": "stream",
          "text": "{'Fido', 'Cool guy'}\n",
          "name": "stdout"
        }
      ]
    },
    {
      "metadata": {},
      "cell_type": "markdown",
      "source": "### Exercise\n#### Note that the set doesn’t print in alphabetical order. Use the sorted function to “solve” this problem and create sorted_pets_set. What is the type of this new object?"
    },
    {
      "metadata": {
        "trusted": true
      },
      "cell_type": "code",
      "source": "sorted_pets_set = sorted(pets_set)\nprint(sorted_pets_set)",
      "execution_count": 65,
      "outputs": [
        {
          "output_type": "stream",
          "text": "['Cool guy', 'Fido']\n",
          "name": "stdout"
        }
      ]
    },
    {
      "metadata": {
        "trusted": true
      },
      "cell_type": "code",
      "source": "print(type(sorted_pets_set))",
      "execution_count": 67,
      "outputs": [
        {
          "output_type": "stream",
          "text": "<class 'list'>\n",
          "name": "stdout"
        }
      ]
    },
    {
      "metadata": {},
      "cell_type": "markdown",
      "source": "### Two Functions\n#### The function set() turns a list into a set. A set is unduplicated. the function list() turns a set into a list.\n#### Use these facts to write a function undup(), which converts a list with duplications into an unduplicated list. Test it on [1,1,2,3,4,4,5,1,2,6]"
    },
    {
      "metadata": {
        "trusted": true
      },
      "cell_type": "code",
      "source": "def unduplist(dupList):\n    return list(set(dupList))",
      "execution_count": 69,
      "outputs": []
    },
    {
      "metadata": {
        "trusted": true
      },
      "cell_type": "code",
      "source": "dupList = [1, 1, 2, 3, 4, 4, 5, 1, 2, 6]\n\nprint(unduplist(dupList))",
      "execution_count": 70,
      "outputs": [
        {
          "output_type": "stream",
          "text": "[1, 2, 3, 4, 5, 6]\n",
          "name": "stdout"
        }
      ]
    },
    {
      "metadata": {},
      "cell_type": "markdown",
      "source": "### Range to Set\n#### Does the set() function work on range objects?"
    },
    {
      "metadata": {
        "trusted": true
      },
      "cell_type": "code",
      "source": "I100 = set(range(1,101))\nprint(I100)",
      "execution_count": 72,
      "outputs": [
        {
          "output_type": "stream",
          "text": "{1, 2, 3, 4, 5, 6, 7, 8, 9, 10, 11, 12, 13, 14, 15, 16, 17, 18, 19, 20, 21, 22, 23, 24, 25, 26, 27, 28, 29, 30, 31, 32, 33, 34, 35, 36, 37, 38, 39, 40, 41, 42, 43, 44, 45, 46, 47, 48, 49, 50, 51, 52, 53, 54, 55, 56, 57, 58, 59, 60, 61, 62, 63, 64, 65, 66, 67, 68, 69, 70, 71, 72, 73, 74, 75, 76, 77, 78, 79, 80, 81, 82, 83, 84, 85, 86, 87, 88, 89, 90, 91, 92, 93, 94, 95, 96, 97, 98, 99, 100}\n",
          "name": "stdout"
        }
      ]
    },
    {
      "metadata": {
        "trusted": true
      },
      "cell_type": "code",
      "source": "len(I100)",
      "execution_count": 73,
      "outputs": [
        {
          "output_type": "execute_result",
          "execution_count": 73,
          "data": {
            "text/plain": "100"
          },
          "metadata": {}
        }
      ]
    },
    {
      "metadata": {
        "trusted": true
      },
      "cell_type": "code",
      "source": "type(I100)",
      "execution_count": 74,
      "outputs": [
        {
          "output_type": "execute_result",
          "execution_count": 74,
          "data": {
            "text/plain": "set"
          },
          "metadata": {}
        }
      ]
    },
    {
      "metadata": {},
      "cell_type": "markdown",
      "source": "Python somewhat awkwardly displays the result as a “set of a list”.\n\nLet’s use this set as our universe to discuss some operations on its subsets. How many subsets does it have?\n\n#### Answer\n\n2^100"
    },
    {
      "metadata": {},
      "cell_type": "markdown",
      "source": "### Rename I100 as the Universe"
    },
    {
      "metadata": {
        "trusted": true
      },
      "cell_type": "code",
      "source": "Universe = I100",
      "execution_count": 75,
      "outputs": []
    },
    {
      "metadata": {},
      "cell_type": "markdown",
      "source": "### Create Subsets\n#### Start with Evens, the subset of even numbers."
    },
    {
      "metadata": {
        "trusted": true
      },
      "cell_type": "code",
      "source": "Evens = set()\n\nfor num in Universe:\n    if num % 2 == 0:\n        Evens.add(num)\n\nprint(Evens)",
      "execution_count": 82,
      "outputs": [
        {
          "output_type": "stream",
          "text": "{2, 4, 6, 8, 10, 12, 14, 16, 18, 20, 22, 24, 26, 28, 30, 32, 34, 36, 38, 40, 42, 44, 46, 48, 50, 52, 54, 56, 58, 60, 62, 64, 66, 68, 70, 72, 74, 76, 78, 80, 82, 84, 86, 88, 90, 92, 94, 96, 98, 100}\n",
          "name": "stdout"
        }
      ]
    },
    {
      "metadata": {},
      "cell_type": "markdown",
      "source": "### Use Comprehension"
    },
    {
      "metadata": {
        "trusted": true
      },
      "cell_type": "code",
      "source": "Evens2 = {n for n in Universe if n % 2 == 0}\nprint(Evens2 == Evens)",
      "execution_count": 87,
      "outputs": [
        {
          "output_type": "stream",
          "text": "True\n",
          "name": "stdout"
        }
      ]
    },
    {
      "metadata": {},
      "cell_type": "markdown",
      "source": "### DataCamp\n#### Python List Comprehension Tutorial\nhttps://www.datacamp.com/community/tutorials/python-list-comprehension"
    },
    {
      "metadata": {
        "trusted": true
      },
      "cell_type": "code",
      "source": "# Initialize 'numbers'\nnumbers = range(10)",
      "execution_count": 90,
      "outputs": []
    },
    {
      "metadata": {
        "trusted": true
      },
      "cell_type": "code",
      "source": "# Initialize 'new_list'\nnew_list = []\n\n# Add values to 'new_list'\nfor n in numbers:\n    if n%2==0:\n        new_list.append(n**2)\n\n# Print `new_list`\nprint(new_list)",
      "execution_count": 91,
      "outputs": [
        {
          "output_type": "stream",
          "text": "[0, 4, 16, 36, 64]\n",
          "name": "stdout"
        }
      ]
    },
    {
      "metadata": {
        "trusted": true
      },
      "cell_type": "code",
      "source": "# Create 'new_list'\nnew_list = [n**2 for n in numbers if n%2==0]\n\n# Print 'new_list'\nprint(new_list)",
      "execution_count": 92,
      "outputs": [
        {
          "output_type": "stream",
          "text": "[0, 4, 16, 36, 64]\n",
          "name": "stdout"
        }
      ]
    },
    {
      "metadata": {},
      "cell_type": "markdown",
      "source": "### Exercise\n#### Create the set of odds using comprehension."
    },
    {
      "metadata": {
        "trusted": true
      },
      "cell_type": "code",
      "source": "Odds = {n for n in Universe if n % 2 == 1}\nprint(Odds)",
      "execution_count": 89,
      "outputs": [
        {
          "output_type": "stream",
          "text": "{1, 3, 5, 7, 9, 11, 13, 15, 17, 19, 21, 23, 25, 27, 29, 31, 33, 35, 37, 39, 41, 43, 45, 47, 49, 51, 53, 55, 57, 59, 61, 63, 65, 67, 69, 71, 73, 75, 77, 79, 81, 83, 85, 87, 89, 91, 93, 95, 97, 99}\n",
          "name": "stdout"
        }
      ]
    },
    {
      "metadata": {},
      "cell_type": "markdown",
      "source": "### Exercise\n#### Create the set HalfOne consisting of every number 50 or less."
    },
    {
      "metadata": {
        "trusted": true
      },
      "cell_type": "code",
      "source": "HalfOne = {n for n in Universe if n <= 50}\nprint(HalfOne)",
      "execution_count": 95,
      "outputs": [
        {
          "output_type": "stream",
          "text": "{1, 2, 3, 4, 5, 6, 7, 8, 9, 10, 11, 12, 13, 14, 15, 16, 17, 18, 19, 20, 21, 22, 23, 24, 25, 26, 27, 28, 29, 30, 31, 32, 33, 34, 35, 36, 37, 38, 39, 40, 41, 42, 43, 44, 45, 46, 47, 48, 49, 50}\n",
          "name": "stdout"
        }
      ]
    },
    {
      "metadata": {},
      "cell_type": "markdown",
      "source": "### Exercise\n#### Create the sets Div3 , Div4, and Div5 containing the numbers divisible by 3, 4, and 5 respectively."
    },
    {
      "metadata": {
        "trusted": true
      },
      "cell_type": "code",
      "source": "Div3 = {n for n in Universe if n % 3 == 0}\nprint(Div3)",
      "execution_count": 96,
      "outputs": [
        {
          "output_type": "stream",
          "text": "{3, 6, 9, 12, 15, 18, 21, 24, 27, 30, 33, 36, 39, 42, 45, 48, 51, 54, 57, 60, 63, 66, 69, 72, 75, 78, 81, 84, 87, 90, 93, 96, 99}\n",
          "name": "stdout"
        }
      ]
    },
    {
      "metadata": {
        "trusted": true
      },
      "cell_type": "code",
      "source": "Div4 = {n for n in Universe if n % 4 == 0}\nprint(Div4)",
      "execution_count": 97,
      "outputs": [
        {
          "output_type": "stream",
          "text": "{4, 8, 12, 16, 20, 24, 28, 32, 36, 40, 44, 48, 52, 56, 60, 64, 68, 72, 76, 80, 84, 88, 92, 96, 100}\n",
          "name": "stdout"
        }
      ]
    },
    {
      "metadata": {
        "trusted": true,
        "scrolled": true
      },
      "cell_type": "code",
      "source": "Div5 = {n for n in Universe if n % 5 == 0}\nprint(Div5)",
      "execution_count": 99,
      "outputs": [
        {
          "output_type": "stream",
          "text": "{65, 35, 100, 5, 70, 40, 10, 75, 45, 15, 80, 50, 20, 85, 55, 25, 90, 60, 30, 95}\n",
          "name": "stdout"
        }
      ]
    },
    {
      "metadata": {},
      "cell_type": "markdown",
      "source": "### DataCamp\n#### Sets in Python Tutorial\nhttps://www.datacamp.com/community/tutorials/sets-in-python"
    },
    {
      "metadata": {
        "trusted": true
      },
      "cell_type": "code",
      "source": "# Python sets have methods that allow you to perform these mathematical operations as well as operators that give you equivalent results.\n\n# Before exploring these methods, let's start by initializing two sets dataScientist and dataEngineer.\n\ndataScientist = set(['Python', 'R', 'SQL', 'Git', 'Tableau', 'SAS'])  \ndataEngineer = set(['Python', 'Java', 'Scala', 'Git', 'SQL', 'Hadoop'])",
      "execution_count": null,
      "outputs": []
    },
    {
      "metadata": {
        "trusted": true
      },
      "cell_type": "code",
      "source": "# union\n\n# A union, denoted dataScientist ∪ dataEngineer, is the set of all values that are values of dataScientist, or dataEngineer, or both. \n# You can use the union method to find out all the unique values in two sets.\n\n# set built-in function union\ndataScientist.union(dataEngineer)\n\n# Equivalent Result\ndataScientist | dataEngineer",
      "execution_count": 109,
      "outputs": [
        {
          "output_type": "execute_result",
          "execution_count": 109,
          "data": {
            "text/plain": "{'Git', 'Hadoop', 'Java', 'Python', 'R', 'SAS', 'SQL', 'Scala', 'Tableau'}"
          },
          "metadata": {}
        }
      ]
    },
    {
      "metadata": {
        "trusted": true
      },
      "cell_type": "code",
      "source": "# intersection\n\n# An intersection of two sets dataScientist and dataEngineer, denoted dataScientist ∩ dataEngineer, is the set of all values that are values of both dataScientist and dataEngineer.\n\n# Intersection operation\ndataScientist.intersection(dataEngineer)\n\n# Equivalent Result\ndataScientist & dataEngineer",
      "execution_count": 110,
      "outputs": [
        {
          "output_type": "execute_result",
          "execution_count": 110,
          "data": {
            "text/plain": "{'Git', 'Python', 'SQL'}"
          },
          "metadata": {}
        }
      ]
    },
    {
      "metadata": {
        "trusted": true
      },
      "cell_type": "code",
      "source": "# difference\n\n# A difference of two sets dataScientist and dataEngineer, denoted dataScientist \\ dataEngineer, is the set of all values of dataScientist that are not values of dataEngineer.\n\n# Difference Operation\ndataScientist.difference(dataEngineer)\n\n# Equivalent Result\ndataScientist - dataEngineer",
      "execution_count": 111,
      "outputs": [
        {
          "output_type": "execute_result",
          "execution_count": 111,
          "data": {
            "text/plain": "{'R', 'SAS', 'Tableau'}"
          },
          "metadata": {}
        }
      ]
    },
    {
      "metadata": {
        "trusted": true
      },
      "cell_type": "code",
      "source": "# symmetric_difference\n\n# A symmetric difference of two sets dataScientist and dataEngineer, denoted dataScientist △ dataEngineer, is the set of all values that are values of exactly one of two sets, but not both.\n\n# Symmetric Difference Operation\ndataScientist.symmetric_difference(dataEngineer)\n\n# Equivalent Result\ndataScientist ^ dataEngineer",
      "execution_count": null,
      "outputs": []
    },
    {
      "metadata": {},
      "cell_type": "markdown",
      "source": "### Exercise\n#### Create and print the intersection of Div3 and Div5."
    },
    {
      "metadata": {
        "trusted": true
      },
      "cell_type": "code",
      "source": "print(Div3.intersection(Div5))",
      "execution_count": 102,
      "outputs": [
        {
          "output_type": "stream",
          "text": "{75, 45, 15, 90, 60, 30}\n",
          "name": "stdout"
        }
      ]
    },
    {
      "metadata": {
        "trusted": true
      },
      "cell_type": "code",
      "source": "# Professor's Answer\n\nDiv3and5 = Div3 & Div5\nprint(Div3and5)",
      "execution_count": 103,
      "outputs": [
        {
          "output_type": "stream",
          "text": "{75, 45, 15, 90, 60, 30}\n",
          "name": "stdout"
        }
      ]
    },
    {
      "metadata": {},
      "cell_type": "markdown",
      "source": "### Exercise\n#### Create and print the union of Div3 and Div5."
    },
    {
      "metadata": {
        "trusted": true
      },
      "cell_type": "code",
      "source": "print(Div3.union(Div5))",
      "execution_count": 104,
      "outputs": [
        {
          "output_type": "stream",
          "text": "{3, 5, 6, 9, 10, 12, 15, 18, 20, 21, 24, 25, 27, 30, 33, 35, 36, 39, 40, 42, 45, 48, 50, 51, 54, 55, 57, 60, 63, 65, 66, 69, 70, 72, 75, 78, 80, 81, 84, 85, 87, 90, 93, 95, 96, 99, 100}\n",
          "name": "stdout"
        }
      ]
    },
    {
      "metadata": {
        "trusted": true
      },
      "cell_type": "code",
      "source": "# Professor's Answer\n\nDiv3or5 = Div3 | Div5\nprint(Div3or5)",
      "execution_count": 105,
      "outputs": [
        {
          "output_type": "stream",
          "text": "{3, 5, 6, 9, 10, 12, 15, 18, 20, 21, 24, 25, 27, 30, 33, 35, 36, 39, 40, 42, 45, 48, 50, 51, 54, 55, 57, 60, 63, 65, 66, 69, 70, 72, 75, 78, 80, 81, 84, 85, 87, 90, 93, 95, 96, 99, 100}\n",
          "name": "stdout"
        }
      ]
    },
    {
      "metadata": {},
      "cell_type": "markdown",
      "source": "### Exercise\n#### Create and print the set difference of Div3 and Div5."
    },
    {
      "metadata": {
        "trusted": true
      },
      "cell_type": "code",
      "source": "print(Div3.difference(Div5))",
      "execution_count": 106,
      "outputs": [
        {
          "output_type": "stream",
          "text": "{3, 6, 9, 12, 18, 21, 24, 27, 33, 36, 39, 42, 48, 51, 54, 57, 63, 66, 69, 72, 78, 81, 84, 87, 93, 96, 99}\n",
          "name": "stdout"
        }
      ]
    },
    {
      "metadata": {
        "trusted": true
      },
      "cell_type": "code",
      "source": "# Professor's Answer\n\nDiv3not5 = Div3 - Div5\nprint(Div3not5)",
      "execution_count": 107,
      "outputs": [
        {
          "output_type": "stream",
          "text": "{3, 6, 9, 12, 18, 21, 24, 27, 33, 36, 39, 42, 48, 51, 54, 57, 63, 66, 69, 72, 78, 81, 84, 87, 93, 96, 99}\n",
          "name": "stdout"
        }
      ]
    },
    {
      "metadata": {},
      "cell_type": "markdown",
      "source": "### Exercise\n#### Create and print the symmetric difference of Div3 and Div5."
    },
    {
      "metadata": {
        "trusted": true
      },
      "cell_type": "code",
      "source": "print(Div3.symmetric_difference(Div5))",
      "execution_count": 113,
      "outputs": [
        {
          "output_type": "stream",
          "text": "{3, 5, 6, 9, 10, 12, 18, 20, 21, 24, 25, 27, 33, 35, 36, 39, 40, 42, 48, 50, 51, 54, 55, 57, 63, 65, 66, 69, 70, 72, 78, 80, 81, 84, 85, 87, 93, 95, 96, 99, 100}\n",
          "name": "stdout"
        }
      ]
    },
    {
      "metadata": {
        "trusted": true
      },
      "cell_type": "code",
      "source": "# Professor's Answer\n\nDivOneOf3and5 = Div3 ^ Div5\nprint(DivOneOf3and5)",
      "execution_count": 114,
      "outputs": [
        {
          "output_type": "stream",
          "text": "{3, 5, 6, 9, 10, 12, 18, 20, 21, 24, 25, 27, 33, 35, 36, 39, 40, 42, 48, 50, 51, 54, 55, 57, 63, 65, 66, 69, 70, 72, 78, 80, 81, 84, 85, 87, 93, 95, 96, 99, 100}\n",
          "name": "stdout"
        }
      ]
    },
    {
      "metadata": {},
      "cell_type": "markdown",
      "source": "### Complement\n#### There is no built-in complement function or operator in python since there is no default universe. However, once you have defined a universe, you can use the difference operator with this set to define a complement function.\n\n#### Create a function comp() for our example. Test it by seeing if the complement of Evens is Odds."
    },
    {
      "metadata": {
        "trusted": true
      },
      "cell_type": "code",
      "source": "def comp(s):\n    return Universe - s\n\nprint(comp(Evens) == Odds)    ",
      "execution_count": 115,
      "outputs": [
        {
          "output_type": "stream",
          "text": "True\n",
          "name": "stdout"
        }
      ]
    },
    {
      "metadata": {},
      "cell_type": "markdown",
      "source": "### Union Distributes over Intersection\n#### In general, the theory of boolean algebra says that for any sets, A, B, and C, the following is true.\n\nA∪(B∩C)=(A∪B)∩(A∪C)\n\n#### Show that this is true for an example using Div3, Div4 and Div5"
    },
    {
      "metadata": {
        "trusted": true
      },
      "cell_type": "code",
      "source": "leftside = Div3 | (Div4 & Div5)\nrightside = (Div3 | Div4) & (Div3 | Div5)\nprint(leftside == rightside)",
      "execution_count": 116,
      "outputs": [
        {
          "output_type": "stream",
          "text": "True\n",
          "name": "stdout"
        }
      ]
    }
  ],
  "metadata": {
    "kernelspec": {
      "name": "python36",
      "display_name": "Python 3.6",
      "language": "python"
    },
    "language_info": {
      "mimetype": "text/x-python",
      "nbconvert_exporter": "python",
      "name": "python",
      "pygments_lexer": "ipython3",
      "version": "3.6.6",
      "file_extension": ".py",
      "codemirror_mode": {
        "version": 3,
        "name": "ipython"
      }
    }
  },
  "nbformat": 4,
  "nbformat_minor": 2
}
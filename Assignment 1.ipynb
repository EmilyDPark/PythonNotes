{
  "cells": [
    {
      "metadata": {},
      "cell_type": "markdown",
      "source": "# Assignment 1"
    },
    {
      "metadata": {},
      "cell_type": "markdown",
      "source": "## Problem 1\n\nIn the code cell below, enter a python command which will print out the string \"My name is ...\". Replace the three dots with your own name."
    },
    {
      "metadata": {
        "trusted": false
      },
      "cell_type": "code",
      "source": "print(\"My name is Emily Park\")",
      "execution_count": 1,
      "outputs": [
        {
          "name": "stdout",
          "output_type": "stream",
          "text": "My name is Emily Park\n"
        }
      ]
    },
    {
      "metadata": {},
      "cell_type": "markdown",
      "source": "## Problem 2\n\nThe general rule in evaluating mathematical operations is that when operators are of the same order of precedence, evaluation proceeds from left to right. I want you to examine whether this is true for the case of exponentiation. Use the integers 2, 3, and 5 in the framework in the following paragraph. \n\nIn the code cell below, enter three assignment statements. The first one should create the variable no_parens. The second one should create the variable left_parens. The third one should create the variable right_parens. Then use three print() statements to show the values of these three variables. \n\nDescribe your conclusion in the markdown cell below the code cell."
    },
    {
      "metadata": {
        "trusted": false
      },
      "cell_type": "code",
      "source": "no_parens = 2**3**5\nleft_parens = (2**3)**5\nright_parens = 2**(3**5)\nprint(no_parens)\nprint(left_parens)\nprint(right_parens)",
      "execution_count": 7,
      "outputs": [
        {
          "name": "stdout",
          "output_type": "stream",
          "text": "14134776518227074636666380005943348126619871175004951664972849610340958208\n32768\n14134776518227074636666380005943348126619871175004951664972849610340958208\n"
        }
      ]
    },
    {
      "metadata": {},
      "cell_type": "markdown",
      "source": "If exponentiation followed the rule that other other expressions follow and went from left to right, placing the parenthesis around 2**3 should have yielded the same result as 2**3**5.\nHowever, because exponentiation moves from right to left, placing the parenthesis around 3**5 produced the same result as 2**3**5."
    },
    {
      "metadata": {},
      "cell_type": "markdown",
      "source": "## Problem 3\nGive the variable decimal the value 1.0 and the variable whole the value the value 2. Then put the sum of these two variables in the variable the_sum. Print the value of the_sum. Print the type of the_sum returned by the type() function. Do your work in the following code cell.\n"
    },
    {
      "metadata": {
        "trusted": false
      },
      "cell_type": "code",
      "source": "decimal = 1.0\nwhole = 2\nthe_sum = decimal + whole\nprint(the_sum)\ntype(the_sum)",
      "execution_count": 6,
      "outputs": [
        {
          "name": "stdout",
          "output_type": "stream",
          "text": "3.0\n"
        },
        {
          "data": {
            "text/plain": "float"
          },
          "execution_count": 6,
          "metadata": {},
          "output_type": "execute_result"
        }
      ]
    },
    {
      "metadata": {},
      "cell_type": "markdown",
      "source": "## Problem 4\nGive the variable first_name your first name and the variable last_name your last name. Create the variable normal_name by concatenating your names separated by a single blank space. Create the variable reversed_name by putting your last name first and your first name last. Separate your two names with a comma and a blank space. Print both versions. Do your work in the following code cell."
    },
    {
      "metadata": {
        "trusted": false
      },
      "cell_type": "code",
      "source": "first_name = \"Emily\"\nlast_name = \"Park\"\nnormal_name = first_name + \" \" + last_name\nreversed_name = last_name + \", \" + first_name\nprint(normal_name)\nprint(reversed_name)",
      "execution_count": 8,
      "outputs": [
        {
          "name": "stdout",
          "output_type": "stream",
          "text": "Emily Park\nPark, Emily\n"
        }
      ]
    }
  ],
  "metadata": {
    "kernelspec": {
      "name": "python3",
      "display_name": "Python 3",
      "language": "python"
    },
    "language_info": {
      "mimetype": "text/x-python",
      "nbconvert_exporter": "python",
      "name": "python",
      "pygments_lexer": "ipython3",
      "version": "3.5.4",
      "file_extension": ".py",
      "codemirror_mode": {
        "version": 3,
        "name": "ipython"
      }
    }
  },
  "nbformat": 4,
  "nbformat_minor": 1
}
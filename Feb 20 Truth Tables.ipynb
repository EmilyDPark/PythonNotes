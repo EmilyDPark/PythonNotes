{
  "cells": [
    {
      "metadata": {
        "collapsed": true
      },
      "cell_type": "markdown",
      "source": "# Truth Tables"
    },
    {
      "metadata": {},
      "cell_type": "markdown",
      "source": "## Exercises from: \n### Introduction to Finite Mathematics  \nJohn G. Kemeny, J. Laurie Snell, and Gerald L. Thompson\n#### Chapter 1: Compound Statements"
    },
    {
      "metadata": {
        "trusted": true,
        "scrolled": true
      },
      "cell_type": "code",
      "source": "def logic(p, q):\n    return not (not p and q)\n\np = True\nq = True\nprint(logic(p, q)) # True\n\np = True\nq = False\nprint(logic(p, q)) # True\n\np = False\nq = True\nprint(logic(p, q)) # False\n\np = False\nq = False\nprint(logic(p, q)) # True",
      "execution_count": 11,
      "outputs": [
        {
          "output_type": "stream",
          "text": "True\nTrue\nFalse\nTrue\n",
          "name": "stdout"
        }
      ]
    },
    {
      "metadata": {
        "trusted": true
      },
      "cell_type": "code",
      "source": "truth_values = [True, False]\nfor p in truth_values:\n    for q in truth_values:\n        print(p, q, logic(p,q))\n",
      "execution_count": 30,
      "outputs": [
        {
          "output_type": "stream",
          "text": "True True True\nTrue False True\nFalse True False\nFalse False True\n",
          "name": "stdout"
        }
      ]
    },
    {
      "metadata": {},
      "cell_type": "markdown",
      "source": "### Page 10 - Exercise 1.a\n#### Construct a truth table for: q v ~q"
    },
    {
      "metadata": {
        "trusted": true
      },
      "cell_type": "code",
      "source": "def ex1a(p, q):\n    return p or not q\n\ntv = [True, False]\nfor p in tv:\n    for q in tv:\n        print(p, q, ex1a(p, q))",
      "execution_count": 27,
      "outputs": [
        {
          "output_type": "stream",
          "text": "True True True\nTrue False True\nFalse True False\nFalse False True\n",
          "name": "stdout"
        }
      ]
    },
    {
      "metadata": {},
      "cell_type": "markdown",
      "source": "### Page 10 - Exercise 1.d\n#### Construct a truth table for: ~(p v q) ^ (~p v ~q)"
    },
    {
      "metadata": {
        "trusted": true,
        "scrolled": true
      },
      "cell_type": "code",
      "source": "def ex1d(p, q):\n    p1 = not (p or q)\n    p2 = not p or not q\n    return p1 and p2\n    \ntv = [True, False]\nfor p in tv:\n    for q in tv:\n        print(p, q, ex1d(p, q))",
      "execution_count": 28,
      "outputs": [
        {
          "output_type": "stream",
          "text": "True True False\nTrue False False\nFalse True False\nFalse False True\n",
          "name": "stdout"
        }
      ]
    },
    {
      "metadata": {},
      "cell_type": "markdown",
      "source": "### Page 11 - Exercise 12\n#### Use truth tables to show that ~(p v q) and ~p ^ ~q are equivalent."
    },
    {
      "metadata": {
        "trusted": true
      },
      "cell_type": "code",
      "source": "def ex12a(p, q):\n    return not (p or q)\n\ndef ex12b(p, q):\n    return not p and not q\n\ntv = [True, False]\nfor p in tv:\n    for q in tv:\n        print(p, q, ex12a(p, q), ex12b(p, q))",
      "execution_count": 29,
      "outputs": [
        {
          "output_type": "stream",
          "text": "True True False False\nTrue False False False\nFalse True False False\nFalse False True True\n",
          "name": "stdout"
        }
      ]
    },
    {
      "metadata": {},
      "cell_type": "markdown",
      "source": "### The Conclusion\n#### I suggested a way to write a python program to come to a conclusion about the equivalence of two logical expressions. Here it is."
    },
    {
      "metadata": {
        "trusted": true
      },
      "cell_type": "code",
      "source": "tv = [True,False]\n# Initialize empty lists\nrl = [] \nsl = []\n\n# Loop through possible values of p and q\nfor p in tv:\n    for q in tv:\n        r = not p and not q\n        s = not(p or q)\n        \n        # Append truth values for current p, q values\n        rl.append(r)\n        sl.append(s)\n        \n# Determine conclusion\nif r == s:\n    conclusion = \"Yes - Equivalent\"\nelse:\n    conclusion = \"No - Not Equivalent\"\n    \nprint(conclusion)",
      "execution_count": 31,
      "outputs": [
        {
          "output_type": "stream",
          "text": "Yes - Equivalent\n",
          "name": "stdout"
        }
      ]
    },
    {
      "metadata": {},
      "cell_type": "markdown",
      "source": "### Generalization\n#### The code above works well, but it would be better if one did not have to examine the code to see where to modify it to use different logical expressions. Could we rewrite this as a function? How can we supply the logical expressions as arguments?"
    },
    {
      "metadata": {
        "trusted": true
      },
      "cell_type": "code",
      "source": "def compareExpressions(expression1, expression2):\n    tv = [True,False]\n\n    # Initialize empty lists\n    rl = [] \n    sl = []\n\n    # Loop through possible values of p and q\n    for p in tv:\n        for q in tv:\n            r = expression1\n            s = expression2\n\n            # Append truth values for current p, q values\n            rl.append(r)\n            sl.append(s)\n\n    # Determine conclusion\n    if r == s:\n        conclusion = \"Yes - Equivalent\"\n    else:\n        conclusion = \"No - Not Equivalent\"\n    \n    print(conclusion)",
      "execution_count": 41,
      "outputs": []
    },
    {
      "metadata": {
        "trusted": true
      },
      "cell_type": "code",
      "source": "expression1 = not p and not q\nexpression2 = not(p or q)\n\ncompareExpressions(expression1, expression2)",
      "execution_count": 42,
      "outputs": [
        {
          "output_type": "stream",
          "text": "Yes - Equivalent\n",
          "name": "stdout"
        }
      ]
    },
    {
      "metadata": {
        "trusted": true
      },
      "cell_type": "code",
      "source": "# Professor's Answer\n\ndef compare(f,g):\n    \n    # Note that f and g are functions.\n    \n    tv = [True,False]\n    # Initialize empty lists\n    rl = [] \n    sl = []\n\n    # Loop through possible values of p and q\n    for p in tv:\n        for q in tv:\n            r = f(p,q)\n            s = g(p,q)\n\n            # Append truth values for current p, q values\n            rl.append(r)\n            sl.append(s)\n\n    # Determine conclusion\n    if r == s:\n        conclusion = \"Yes - Equivalent\"\n    else:\n        conclusion = \"No - Not Equivalent\"\n\n    return conclusion",
      "execution_count": 37,
      "outputs": []
    },
    {
      "metadata": {},
      "cell_type": "markdown",
      "source": "### Exercise\n#### Let’s try this. We need two functions which return logical values."
    },
    {
      "metadata": {
        "trusted": true
      },
      "cell_type": "code",
      "source": "# Professor's Answer\n\ndef f1(a,b):\n    return not a and not b\ndef f2(c,d):\n\n    return not(c or d)\n    \ncompare(f1,f2)",
      "execution_count": 43,
      "outputs": [
        {
          "output_type": "execute_result",
          "execution_count": 43,
          "data": {
            "text/plain": "'Yes - Equivalent'"
          },
          "metadata": {}
        }
      ]
    }
  ],
  "metadata": {
    "kernelspec": {
      "name": "python36",
      "display_name": "Python 3.6",
      "language": "python"
    },
    "language_info": {
      "mimetype": "text/x-python",
      "nbconvert_exporter": "python",
      "name": "python",
      "pygments_lexer": "ipython3",
      "version": "3.6.6",
      "file_extension": ".py",
      "codemirror_mode": {
        "version": 3,
        "name": "ipython"
      }
    }
  },
  "nbformat": 4,
  "nbformat_minor": 2
}